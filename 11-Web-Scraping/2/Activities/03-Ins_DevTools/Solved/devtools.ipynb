{
 "cells": [
  {
   "cell_type": "code",
   "execution_count": 1,
   "metadata": {},
   "outputs": [],
   "source": [
    "from splinter import Browser\n",
    "from bs4 import BeautifulSoup\n",
    "from webdriver_manager.chrome import ChromeDriverManager"
   ]
  },
  {
   "cell_type": "code",
   "execution_count": 2,
   "metadata": {},
   "outputs": [],
   "source": [
    "# Set up Splinter\n",
    "executable_path = {'executable_path': ChromeDriverManager().install()}\n",
    "browser = Browser('chrome', **executable_path, headless=False)"
   ]
  },
  {
   "cell_type": "code",
   "execution_count": 3,
   "metadata": {},
   "outputs": [],
   "source": [
    "url = \"https://stackoverflow.com/questions/tagged/python?sort=MostVotes&edited=true\""
   ]
  },
  {
   "cell_type": "code",
   "execution_count": 4,
   "metadata": {},
   "outputs": [],
   "source": [
    "browser.visit(url)"
   ]
  },
  {
   "cell_type": "code",
   "execution_count": 5,
   "metadata": {},
   "outputs": [],
   "source": [
    "html = browser.html"
   ]
  },
  {
   "cell_type": "code",
   "execution_count": 6,
   "metadata": {},
   "outputs": [],
   "source": [
    "soup = BeautifulSoup(html, 'html.parser')"
   ]
  },
  {
   "cell_type": "code",
   "execution_count": 7,
   "metadata": {},
   "outputs": [
    {
     "data": {
      "text/plain": [
       "'\\nQuestions tagged [python]        '"
      ]
     },
     "execution_count": 7,
     "metadata": {},
     "output_type": "execute_result"
    }
   ],
   "source": [
    "soup.find('h1').text"
   ]
  },
  {
   "cell_type": "code",
   "execution_count": 8,
   "metadata": {},
   "outputs": [
    {
     "data": {
      "text/plain": [
       "'Questions tagged [python]'"
      ]
     },
     "execution_count": 8,
     "metadata": {},
     "output_type": "execute_result"
    }
   ],
   "source": [
    "soup.find('h1').text.strip()"
   ]
  },
  {
   "cell_type": "code",
   "execution_count": 9,
   "metadata": {},
   "outputs": [],
   "source": [
    "questions = soup.find_all('a', class_='question-hyperlink')"
   ]
  },
  {
   "cell_type": "code",
   "execution_count": 10,
   "metadata": {},
   "outputs": [
    {
     "data": {
      "text/plain": [
       "[<a class=\"js-gps-track question-hyperlink mb0\" data-gps-track=\"site.switch({ item_type:9, target_site:295 }); posts_hot_network.click({ item_type:2, location:9 })\" href=\"https://dsp.stackexchange.com/questions/85202/fourier-transform-of-impulse-train-proof-in-julius-o-smiths-textbook\">\n",
       "                     Fourier Transform of impulse train proof in Julius O Smith's textbook\n",
       "                 </a>,\n",
       " <a class=\"js-gps-track question-hyperlink mb0\" data-gps-track=\"site.switch({ item_type:9, target_site:1 }); posts_hot_network.click({ item_type:2, location:9 })\" href=\"https://stackoverflow.com/questions/74289602/how-do-i-simplify-combine-these-two-methods\">\n",
       "                     How do I simplify/combine these two methods?\n",
       "                 </a>,\n",
       " <a class=\"js-gps-track question-hyperlink mb0\" data-gps-track=\"site.switch({ item_type:9, target_site:151 }); posts_hot_network.click({ item_type:2, location:9 })\" href=\"https://physics.stackexchange.com/questions/734825/what-exactly-makes-a-black-hole-stay-a-black-hole\">\n",
       "                     What exactly makes a black hole STAY a black hole?\n",
       "                 </a>,\n",
       " <a class=\"js-gps-track question-hyperlink mb0\" data-gps-track=\"site.switch({ item_type:9, target_site:240 }); posts_hot_network.click({ item_type:2, location:9 })\" href=\"https://music.stackexchange.com/questions/125731/is-it-true-that-1st-harmonics-amplitude-is-in-most-cases-greater-than-half-th\">\n",
       "                     Is it true that 1st harmonic's amplitude is, in most cases, greater than half the maximum?\n",
       "                 </a>,\n",
       " <a class=\"js-gps-track question-hyperlink mb0\" data-gps-track=\"site.switch({ item_type:9, target_site:273 }); posts_hot_network.click({ item_type:2, location:9 })\" href=\"https://travel.stackexchange.com/questions/177244/overstayed-schengen-visa-by-1-day-because-of-delayed-flight-consequences\">\n",
       "                     Overstayed Schengen visa by 1 day because of delayed flight, consequences?\n",
       "                 </a>,\n",
       " <a class=\"js-gps-track question-hyperlink mb0\" data-gps-track=\"site.switch({ item_type:9, target_site:514 }); posts_hot_network.click({ item_type:2, location:9 })\" href=\"https://astronomy.stackexchange.com/questions/50947/non-anthropic-universal-units-of-time-for-active-seti\">\n",
       "                     Non-anthropic, universal units of time for active SETI\n",
       "                 </a>,\n",
       " <a class=\"js-gps-track question-hyperlink mb0\" data-gps-track=\"site.switch({ item_type:9, target_site:69 }); posts_hot_network.click({ item_type:2, location:9 })\" href=\"https://math.stackexchange.com/questions/4567209/can-the-space-of-linear-operators-on-a-hilbert-space-be-made-into-a-hilbert-spac\">\n",
       "                     Can the space of linear operators on a Hilbert space be made into a Hilbert space?\n",
       "                 </a>,\n",
       " <a class=\"js-gps-track question-hyperlink mb0\" data-gps-track=\"site.switch({ item_type:9, target_site:257 }); posts_hot_network.click({ item_type:2, location:9 })\" href=\"https://japanese.stackexchange.com/questions/96980/is-there-a-fundamental-difference-between-homonyms-with-close-meaning-and-words\">\n",
       "                     Is there a fundamental difference between homonyms with close meaning and words with multiple possible kanji?\n",
       "                 </a>,\n",
       " <a class=\"js-gps-track question-hyperlink mb0\" data-gps-track=\"site.switch({ item_type:9, target_site:415 }); posts_hot_network.click({ item_type:2, location:9 })\" href=\"https://academia.stackexchange.com/questions/190221/can-i-include-the-ongoing-dissertation-title-on-cv\">\n",
       "                     Can I include the ongoing dissertation title on CV?\n",
       "                 </a>,\n",
       " <a class=\"js-gps-track question-hyperlink mb0\" data-gps-track=\"site.switch({ item_type:9, target_site:559 }); posts_hot_network.click({ item_type:2, location:9 })\" href=\"https://puzzling.stackexchange.com/questions/118604/packing-the-primes\">\n",
       "                     Packing the Primes\n",
       "                 </a>,\n",
       " <a class=\"js-gps-track question-hyperlink mb0\" data-gps-track=\"site.switch({ item_type:9, target_site:151 }); posts_hot_network.click({ item_type:2, location:9 })\" href=\"https://physics.stackexchange.com/questions/734692/why-can-einstein-coefficients-be-derived-based-on-thermodynamically-equilibrium\">\n",
       "                     Why can Einstein coefficients be derived based on thermodynamically equilibrium relations when they are basically intrinsic?\n",
       "                 </a>,\n",
       " <a class=\"js-gps-track question-hyperlink mb0\" data-gps-track=\"site.switch({ item_type:9, target_site:617 }); posts_hot_network.click({ item_type:2, location:9 })\" href=\"https://law.stackexchange.com/questions/85891/law-behind-copying-items-multiple-times\">\n",
       "                     law behind copying items multiple times\n",
       "                 </a>,\n",
       " <a class=\"js-gps-track question-hyperlink mb0\" data-gps-track=\"site.switch({ item_type:9, target_site:579 }); posts_hot_network.click({ item_type:2, location:9 })\" href=\"https://worldbuilding.stackexchange.com/questions/237526/interstellar-warfare-magnetic-spheres\">\n",
       "                     Interstellar Warfare - Magnetic Spheres\n",
       "                 </a>,\n",
       " <a class=\"js-gps-track question-hyperlink mb0\" data-gps-track=\"site.switch({ item_type:9, target_site:65 }); posts_hot_network.click({ item_type:2, location:9 })\" href=\"https://stats.stackexchange.com/questions/594335/models-for-binary-response-that-appear-like-logit-probit-regression-but-never-ap\">\n",
       "                     Models for binary response that appear like logit/probit regression but never approach 1\n",
       "                 </a>,\n",
       " <a class=\"js-gps-track question-hyperlink mb0\" data-gps-track=\"site.switch({ item_type:9, target_site:53 }); posts_hot_network.click({ item_type:2, location:9 })\" href=\"https://gamedev.stackexchange.com/questions/203168/what-is-a-mask-in-game-development\">\n",
       "                     What is a 'Mask' in Game development?\n",
       "                 </a>,\n",
       " <a class=\"js-gps-track question-hyperlink mb0\" data-gps-track=\"site.switch({ item_type:9, target_site:106 }); posts_hot_network.click({ item_type:2, location:9 })\" href=\"https://unix.stackexchange.com/questions/723368/how-to-live-update-wc-l\">\n",
       "                     How to live update `wc -l`?\n",
       "                 </a>,\n",
       " <a class=\"js-gps-track question-hyperlink mb0\" data-gps-track=\"site.switch({ item_type:9, target_site:504 }); posts_hot_network.click({ item_type:2, location:9 })\" href=\"https://mathoverflow.net/questions/433700/jacobis-original-reference-in-riemanns-paper\">\n",
       "                     Jacobi's original reference in Riemann's paper\n",
       "                 </a>,\n",
       " <a class=\"js-gps-track question-hyperlink mb0\" data-gps-track=\"site.switch({ item_type:9, target_site:61 }); posts_hot_network.click({ item_type:2, location:9 })\" href=\"https://photo.stackexchange.com/questions/130543/how-to-get-a-lens-locking-screw-if-i-have-lost-the-original-one\">\n",
       "                     How to get a lens locking screw if I have lost the original one?\n",
       "                 </a>,\n",
       " <a class=\"js-gps-track question-hyperlink mb0\" data-gps-track=\"site.switch({ item_type:9, target_site:139 }); posts_hot_network.click({ item_type:2, location:9 })\" href=\"https://android.stackexchange.com/questions/249069/what-does-a-crossed-out-globe-system-icon-mean\">\n",
       "                     What does a \"crossed-out globe\" system icon mean?\n",
       "                 </a>,\n",
       " <a class=\"js-gps-track question-hyperlink mb0\" data-gps-track=\"site.switch({ item_type:9, target_site:85 }); posts_hot_network.click({ item_type:2, location:9 })\" href=\"https://tex.stackexchange.com/questions/663892/vertically-centering-one-side-of-a-multiline-equation\">\n",
       "                     Vertically Centering one side of a Multiline equation\n",
       "                 </a>,\n",
       " <a class=\"js-gps-track question-hyperlink mb0\" data-gps-track=\"site.switch({ item_type:9, target_site:135 }); posts_hot_network.click({ item_type:2, location:9 })\" href=\"https://electronics.stackexchange.com/questions/640785/what-does-the-100-%ce%a9-resistor-do-in-this-push-pull-amplifier\">\n",
       "                     What does the 100 Ω resistor do in this push-pull amplifier?\n",
       "                 </a>,\n",
       " <a class=\"js-gps-track question-hyperlink mb0\" data-gps-track=\"site.switch({ item_type:9, target_site:135 }); posts_hot_network.click({ item_type:2, location:9 })\" href=\"https://electronics.stackexchange.com/questions/640885/mosfet-gets-too-hot-when-controlling-a-peltier\">\n",
       "                     MOSFET gets too hot when controlling a Peltier\n",
       "                 </a>,\n",
       " <a class=\"js-gps-track question-hyperlink mb0\" data-gps-track=\"site.switch({ item_type:9, target_site:265 }); posts_hot_network.click({ item_type:2, location:9 })\" href=\"https://philosophy.stackexchange.com/questions/94561/philosophical-implications-of-entangled-states-and-the-2022-physics-nobel-prize\">\n",
       "                     Philosophical implications of entangled states (and the 2022 physics nobel prize)\n",
       "                 </a>,\n",
       " <a class=\"js-gps-track question-hyperlink mb0\" data-gps-track=\"site.switch({ item_type:9, target_site:122 }); posts_hot_network.click({ item_type:2, location:9 })\" href=\"https://rpg.stackexchange.com/questions/202505/does-spectral-hand-provoke-opportunity-attacks\">\n",
       "                     Does Spectral Hand provoke opportunity attacks?\n",
       "                 </a>]"
      ]
     },
     "execution_count": 10,
     "metadata": {},
     "output_type": "execute_result"
    }
   ],
   "source": [
    "questions"
   ]
  },
  {
   "cell_type": "code",
   "execution_count": 11,
   "metadata": {},
   "outputs": [
    {
     "data": {
      "text/plain": [
       "'https://dsp.stackexchange.com/questions/85202/fourier-transform-of-impulse-train-proof-in-julius-o-smiths-textbook'"
      ]
     },
     "execution_count": 11,
     "metadata": {},
     "output_type": "execute_result"
    }
   ],
   "source": [
    "questions[0]['href']"
   ]
  },
  {
   "cell_type": "code",
   "execution_count": 12,
   "metadata": {},
   "outputs": [
    {
     "data": {
      "text/plain": [
       "\"\\n                    Fourier Transform of impulse train proof in Julius O Smith's textbook\\n                \""
      ]
     },
     "execution_count": 12,
     "metadata": {},
     "output_type": "execute_result"
    }
   ],
   "source": [
    "questions[0].text"
   ]
  },
  {
   "cell_type": "code",
   "execution_count": 13,
   "metadata": {},
   "outputs": [],
   "source": [
    "browser.quit()"
   ]
  },
  {
   "cell_type": "code",
   "execution_count": null,
   "metadata": {},
   "outputs": [],
   "source": []
  }
 ],
 "metadata": {
  "kernelspec": {
   "display_name": "Python 3 (ipykernel)",
   "language": "python",
   "name": "python3"
  },
  "language_info": {
   "codemirror_mode": {
    "name": "ipython",
    "version": 3
   },
   "file_extension": ".py",
   "mimetype": "text/x-python",
   "name": "python",
   "nbconvert_exporter": "python",
   "pygments_lexer": "ipython3",
   "version": "3.9.13"
  }
 },
 "nbformat": 4,
 "nbformat_minor": 4
}
