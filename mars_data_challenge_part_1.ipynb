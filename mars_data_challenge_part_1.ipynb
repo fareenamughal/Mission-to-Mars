{
 "cells": [
  {
   "cell_type": "markdown",
   "id": "1cd8d61f",
   "metadata": {},
   "source": [
    "# mars_data_challenge_part_\n"
   ]
  },
  {
   "cell_type": "markdown",
   "id": "44f63d6b",
   "metadata": {},
   "source": [
    "## Deliverable 1: Scrape titles and preview text from Mars news articles. Optionally export the data into a JSON file or a MongoDB database."
   ]
  },
  {
   "cell_type": "code",
   "execution_count": 1,
   "id": "b96e9020",
   "metadata": {},
   "outputs": [],
   "source": [
    "# Import dependencies\n",
    "from splinter import Browser\n",
    "from bs4 import BeautifulSoup as soup\n",
    "from webdriver_manager.chrome import ChromeDriverManager\n",
    "import pandas as pd"
   ]
  },
  {
   "cell_type": "code",
   "execution_count": 2,
   "id": "1c619914",
   "metadata": {},
   "outputs": [
    {
     "name": "stderr",
     "output_type": "stream",
     "text": [
      "[WDM] - Downloading: 100%|█████████████████| 8.41M/8.41M [00:07<00:00, 1.23MB/s]\n"
     ]
    }
   ],
   "source": [
    "# Set up Splinter\n",
    "executable_path = {'executable_path': ChromeDriverManager().install()}\n",
    "browser = Browser('chrome', **executable_path, headless=False)"
   ]
  },
  {
   "cell_type": "code",
   "execution_count": 3,
   "id": "572c7e44",
   "metadata": {},
   "outputs": [
    {
     "data": {
      "text/plain": [
       "True"
      ]
     },
     "execution_count": 3,
     "metadata": {},
     "output_type": "execute_result"
    }
   ],
   "source": [
    "# Visit the Mars News site\n",
    "url = 'https://redplanetscience.com/'\n",
    "browser.visit(url)\n",
    "# Optional delay for loading the page\n",
    "browser.is_element_present_by_css('div.list_text', wait_time=1)"
   ]
  },
  {
   "cell_type": "code",
   "execution_count": 4,
   "id": "63f87f81",
   "metadata": {},
   "outputs": [],
   "source": [
    "# Parse the HTML\n",
    "html = browser.html\n",
    "news_soup = soup(html, 'html.parser')"
   ]
  },
  {
   "cell_type": "code",
   "execution_count": 5,
   "id": "08b40572",
   "metadata": {},
   "outputs": [],
   "source": [
    "# Selecting all news titles\n",
    "news_titles = news_soup.select('div.content_title')"
   ]
  },
  {
   "cell_type": "code",
   "execution_count": 6,
   "id": "e1f816c7",
   "metadata": {},
   "outputs": [],
   "source": [
    "# Selecting all news previews\n",
    "news_previews = news_soup.select('div.article_teaser_body')"
   ]
  },
  {
   "cell_type": "code",
   "execution_count": 7,
   "id": "e9452439",
   "metadata": {},
   "outputs": [
    {
     "name": "stdout",
     "output_type": "stream",
     "text": [
      "{'Title': \"The Extraordinary Sample-Gathering System of NASA's Perseverance Mars Rover\", 'Preview': 'Two astronauts collected Moon rocks on Apollo 11. It will take three robotic systems working together to gather up the first Mars rock samples for return to Earth.'}\n",
      "    \n",
      "{'Title': \"NASA's Perseverance Rover Will Carry First Spacesuit Materials to Mars\", 'Preview': 'In a Q&A, spacesuit designer Amy Ross explains how five samples, including a piece of helmet visor, will be tested aboard the rover, which is targeting a July 30 launch. '}\n",
      "    \n",
      "{'Title': \"10.9 Million Names Now Aboard NASA's Perseverance Mars Rover\", 'Preview': \"As part of NASA's 'Send Your Name to Mars' campaign, they've been stenciled onto three microchips along with essays from NASA's 'Name the Rover' contest. Next stop: Mars.\"}\n",
      "    \n",
      "{'Title': 'NASA Establishes Board to Initially Review Mars Sample Return Plans', 'Preview': 'The board will assist with analysis of current plans and goals for one of the most difficult missions humanity has ever undertaken.'}\n",
      "    \n",
      "{'Title': 'NASA Mars Mission Connects With Bosnian and Herzegovinian Town', 'Preview': 'A letter from NASA was presented to the mayor of Jezero, Bosnia-Herzegovina, honoring the connection between the town and Jezero Crater, the Mars 2020 rover landing site.'}\n",
      "    \n",
      "{'Title': \"Alabama High School Student Names NASA's Mars Helicopter\", 'Preview': \"Vaneeza Rupani's essay was chosen as the name for the small spacecraft, which will mark NASA's first attempt at powered flight on another planet.\"}\n",
      "    \n",
      "{'Title': \"NASA Readies Perseverance Mars Rover's Earthly Twin \", 'Preview': \"Did you know NASA's next Mars rover has a nearly identical sibling on Earth for testing? Even better, it's about to roll for the first time through a replica Martian landscape.\"}\n",
      "    \n",
      "{'Title': \"NASA's Mars Rover Drivers Need Your Help\", 'Preview': 'Using an online tool to label Martian terrain types, you can train an artificial intelligence algorithm that could improve the way engineers guide the Curiosity rover.'}\n",
      "    \n",
      "{'Title': 'NASA to Reveal Name of Its Next Mars Rover', 'Preview': \"After a months-long contest among students to name NASA's newest Mars rover, the agency will reveal the winning name — and the winning student — this Thursday. \"}\n",
      "    \n",
      "{'Title': \"Robotic Toolkit Added to NASA's Mars 2020 Rover\", 'Preview': \"The bit carousel, which lies at the heart of the rover's Sample Caching System, is now aboard NASA's newest rover. \"}\n",
      "    \n",
      "{'Title': 'NASA Wins Two Emmy Awards for Interactive Mission Coverage', 'Preview': \"NASA-JPL's coverage of the Mars InSight landing earns one of the two wins, making this the NASA center's second Emmy.\"}\n",
      "    \n",
      "{'Title': \"NASA's Mars Helicopter Attached to Mars 2020 Rover \", 'Preview': 'The helicopter will be first aircraft to perform flight tests on another planet.'}\n",
      "    \n",
      "{'Title': \"Common Questions about InSight's 'Mole'\", 'Preview': 'The following Q&As with members of the team answer some of the most common questions about the burrowing device, part of a science instrument called the Heat Flow and Physical Properties Package (HP3).'}\n",
      "    \n",
      "{'Title': 'NASA to Hold Mars 2020 Perseverance Rover Launch Briefing', 'Preview': \"Learn more about the agency's next Red Planet mission during a live event on June 17.\"}\n",
      "    \n",
      "{'Title': 'Sensors on Mars 2020 Spacecraft Answer Long-Distance Call From Earth', 'Preview': \"Instruments tailored to collect data during the descent of NASA's next rover through the Red Planet's atmosphere have been checked in flight.\"}\n",
      "    \n"
     ]
    }
   ],
   "source": [
    "# Create a dictionary and store the dictionary in a python list\n",
    "news_list = []\n",
    "for i in range(len(news_titles)):\n",
    "    news_dict = {}\n",
    "    news_dict = {'Title':news_titles[i].text, 'Preview':news_previews[i].text}\n",
    "    print(f'''{news_dict}\n",
    "    ''')\n",
    "    news_list.append(news_dict)"
   ]
  },
  {
   "cell_type": "code",
   "execution_count": 8,
   "id": "22d1b049",
   "metadata": {},
   "outputs": [
    {
     "data": {
      "text/plain": [
       "[{'Title': \"The Extraordinary Sample-Gathering System of NASA's Perseverance Mars Rover\",\n",
       "  'Preview': 'Two astronauts collected Moon rocks on Apollo 11. It will take three robotic systems working together to gather up the first Mars rock samples for return to Earth.'},\n",
       " {'Title': \"NASA's Perseverance Rover Will Carry First Spacesuit Materials to Mars\",\n",
       "  'Preview': 'In a Q&A, spacesuit designer Amy Ross explains how five samples, including a piece of helmet visor, will be tested aboard the rover, which is targeting a July 30 launch. '},\n",
       " {'Title': \"10.9 Million Names Now Aboard NASA's Perseverance Mars Rover\",\n",
       "  'Preview': \"As part of NASA's 'Send Your Name to Mars' campaign, they've been stenciled onto three microchips along with essays from NASA's 'Name the Rover' contest. Next stop: Mars.\"},\n",
       " {'Title': 'NASA Establishes Board to Initially Review Mars Sample Return Plans',\n",
       "  'Preview': 'The board will assist with analysis of current plans and goals for one of the most difficult missions humanity has ever undertaken.'},\n",
       " {'Title': 'NASA Mars Mission Connects With Bosnian and Herzegovinian Town',\n",
       "  'Preview': 'A letter from NASA was presented to the mayor of Jezero, Bosnia-Herzegovina, honoring the connection between the town and Jezero Crater, the Mars 2020 rover landing site.'},\n",
       " {'Title': \"Alabama High School Student Names NASA's Mars Helicopter\",\n",
       "  'Preview': \"Vaneeza Rupani's essay was chosen as the name for the small spacecraft, which will mark NASA's first attempt at powered flight on another planet.\"},\n",
       " {'Title': \"NASA Readies Perseverance Mars Rover's Earthly Twin \",\n",
       "  'Preview': \"Did you know NASA's next Mars rover has a nearly identical sibling on Earth for testing? Even better, it's about to roll for the first time through a replica Martian landscape.\"},\n",
       " {'Title': \"NASA's Mars Rover Drivers Need Your Help\",\n",
       "  'Preview': 'Using an online tool to label Martian terrain types, you can train an artificial intelligence algorithm that could improve the way engineers guide the Curiosity rover.'},\n",
       " {'Title': 'NASA to Reveal Name of Its Next Mars Rover',\n",
       "  'Preview': \"After a months-long contest among students to name NASA's newest Mars rover, the agency will reveal the winning name — and the winning student — this Thursday. \"},\n",
       " {'Title': \"Robotic Toolkit Added to NASA's Mars 2020 Rover\",\n",
       "  'Preview': \"The bit carousel, which lies at the heart of the rover's Sample Caching System, is now aboard NASA's newest rover. \"},\n",
       " {'Title': 'NASA Wins Two Emmy Awards for Interactive Mission Coverage',\n",
       "  'Preview': \"NASA-JPL's coverage of the Mars InSight landing earns one of the two wins, making this the NASA center's second Emmy.\"},\n",
       " {'Title': \"NASA's Mars Helicopter Attached to Mars 2020 Rover \",\n",
       "  'Preview': 'The helicopter will be first aircraft to perform flight tests on another planet.'},\n",
       " {'Title': \"Common Questions about InSight's 'Mole'\",\n",
       "  'Preview': 'The following Q&As with members of the team answer some of the most common questions about the burrowing device, part of a science instrument called the Heat Flow and Physical Properties Package (HP3).'},\n",
       " {'Title': 'NASA to Hold Mars 2020 Perseverance Rover Launch Briefing',\n",
       "  'Preview': \"Learn more about the agency's next Red Planet mission during a live event on June 17.\"},\n",
       " {'Title': 'Sensors on Mars 2020 Spacecraft Answer Long-Distance Call From Earth',\n",
       "  'Preview': \"Instruments tailored to collect data during the descent of NASA's next rover through the Red Planet's atmosphere have been checked in flight.\"}]"
      ]
     },
     "execution_count": 8,
     "metadata": {},
     "output_type": "execute_result"
    }
   ],
   "source": [
    "news_list"
   ]
  },
  {
   "cell_type": "code",
   "execution_count": 9,
   "id": "76bd1cb6",
   "metadata": {},
   "outputs": [
    {
     "data": {
      "text/html": [
       "<div>\n",
       "<style scoped>\n",
       "    .dataframe tbody tr th:only-of-type {\n",
       "        vertical-align: middle;\n",
       "    }\n",
       "\n",
       "    .dataframe tbody tr th {\n",
       "        vertical-align: top;\n",
       "    }\n",
       "\n",
       "    .dataframe thead th {\n",
       "        text-align: right;\n",
       "    }\n",
       "</style>\n",
       "<table border=\"1\" class=\"dataframe\">\n",
       "  <thead>\n",
       "    <tr style=\"text-align: right;\">\n",
       "      <th></th>\n",
       "      <th>Title</th>\n",
       "      <th>Preview</th>\n",
       "    </tr>\n",
       "  </thead>\n",
       "  <tbody>\n",
       "    <tr>\n",
       "      <th>0</th>\n",
       "      <td>The Extraordinary Sample-Gathering System of N...</td>\n",
       "      <td>Two astronauts collected Moon rocks on Apollo ...</td>\n",
       "    </tr>\n",
       "    <tr>\n",
       "      <th>1</th>\n",
       "      <td>NASA's Perseverance Rover Will Carry First Spa...</td>\n",
       "      <td>In a Q&amp;A, spacesuit designer Amy Ross explains...</td>\n",
       "    </tr>\n",
       "    <tr>\n",
       "      <th>2</th>\n",
       "      <td>10.9 Million Names Now Aboard NASA's Persevera...</td>\n",
       "      <td>As part of NASA's 'Send Your Name to Mars' cam...</td>\n",
       "    </tr>\n",
       "    <tr>\n",
       "      <th>3</th>\n",
       "      <td>NASA Establishes Board to Initially Review Mar...</td>\n",
       "      <td>The board will assist with analysis of current...</td>\n",
       "    </tr>\n",
       "    <tr>\n",
       "      <th>4</th>\n",
       "      <td>NASA Mars Mission Connects With Bosnian and He...</td>\n",
       "      <td>A letter from NASA was presented to the mayor ...</td>\n",
       "    </tr>\n",
       "    <tr>\n",
       "      <th>5</th>\n",
       "      <td>Alabama High School Student Names NASA's Mars ...</td>\n",
       "      <td>Vaneeza Rupani's essay was chosen as the name ...</td>\n",
       "    </tr>\n",
       "    <tr>\n",
       "      <th>6</th>\n",
       "      <td>NASA Readies Perseverance Mars Rover's Earthly...</td>\n",
       "      <td>Did you know NASA's next Mars rover has a near...</td>\n",
       "    </tr>\n",
       "    <tr>\n",
       "      <th>7</th>\n",
       "      <td>NASA's Mars Rover Drivers Need Your Help</td>\n",
       "      <td>Using an online tool to label Martian terrain ...</td>\n",
       "    </tr>\n",
       "    <tr>\n",
       "      <th>8</th>\n",
       "      <td>NASA to Reveal Name of Its Next Mars Rover</td>\n",
       "      <td>After a months-long contest among students to ...</td>\n",
       "    </tr>\n",
       "    <tr>\n",
       "      <th>9</th>\n",
       "      <td>Robotic Toolkit Added to NASA's Mars 2020 Rover</td>\n",
       "      <td>The bit carousel, which lies at the heart of t...</td>\n",
       "    </tr>\n",
       "    <tr>\n",
       "      <th>10</th>\n",
       "      <td>NASA Wins Two Emmy Awards for Interactive Miss...</td>\n",
       "      <td>NASA-JPL's coverage of the Mars InSight landin...</td>\n",
       "    </tr>\n",
       "    <tr>\n",
       "      <th>11</th>\n",
       "      <td>NASA's Mars Helicopter Attached to Mars 2020 R...</td>\n",
       "      <td>The helicopter will be first aircraft to perfo...</td>\n",
       "    </tr>\n",
       "    <tr>\n",
       "      <th>12</th>\n",
       "      <td>Common Questions about InSight's 'Mole'</td>\n",
       "      <td>The following Q&amp;As with members of the team an...</td>\n",
       "    </tr>\n",
       "    <tr>\n",
       "      <th>13</th>\n",
       "      <td>NASA to Hold Mars 2020 Perseverance Rover Laun...</td>\n",
       "      <td>Learn more about the agency's next Red Planet ...</td>\n",
       "    </tr>\n",
       "    <tr>\n",
       "      <th>14</th>\n",
       "      <td>Sensors on Mars 2020 Spacecraft Answer Long-Di...</td>\n",
       "      <td>Instruments tailored to collect data during th...</td>\n",
       "    </tr>\n",
       "  </tbody>\n",
       "</table>\n",
       "</div>"
      ],
      "text/plain": [
       "                                                Title  \\\n",
       "0   The Extraordinary Sample-Gathering System of N...   \n",
       "1   NASA's Perseverance Rover Will Carry First Spa...   \n",
       "2   10.9 Million Names Now Aboard NASA's Persevera...   \n",
       "3   NASA Establishes Board to Initially Review Mar...   \n",
       "4   NASA Mars Mission Connects With Bosnian and He...   \n",
       "5   Alabama High School Student Names NASA's Mars ...   \n",
       "6   NASA Readies Perseverance Mars Rover's Earthly...   \n",
       "7            NASA's Mars Rover Drivers Need Your Help   \n",
       "8          NASA to Reveal Name of Its Next Mars Rover   \n",
       "9     Robotic Toolkit Added to NASA's Mars 2020 Rover   \n",
       "10  NASA Wins Two Emmy Awards for Interactive Miss...   \n",
       "11  NASA's Mars Helicopter Attached to Mars 2020 R...   \n",
       "12            Common Questions about InSight's 'Mole'   \n",
       "13  NASA to Hold Mars 2020 Perseverance Rover Laun...   \n",
       "14  Sensors on Mars 2020 Spacecraft Answer Long-Di...   \n",
       "\n",
       "                                              Preview  \n",
       "0   Two astronauts collected Moon rocks on Apollo ...  \n",
       "1   In a Q&A, spacesuit designer Amy Ross explains...  \n",
       "2   As part of NASA's 'Send Your Name to Mars' cam...  \n",
       "3   The board will assist with analysis of current...  \n",
       "4   A letter from NASA was presented to the mayor ...  \n",
       "5   Vaneeza Rupani's essay was chosen as the name ...  \n",
       "6   Did you know NASA's next Mars rover has a near...  \n",
       "7   Using an online tool to label Martian terrain ...  \n",
       "8   After a months-long contest among students to ...  \n",
       "9   The bit carousel, which lies at the heart of t...  \n",
       "10  NASA-JPL's coverage of the Mars InSight landin...  \n",
       "11  The helicopter will be first aircraft to perfo...  \n",
       "12  The following Q&As with members of the team an...  \n",
       "13  Learn more about the agency's next Red Planet ...  \n",
       "14  Instruments tailored to collect data during th...  "
      ]
     },
     "execution_count": 9,
     "metadata": {},
     "output_type": "execute_result"
    }
   ],
   "source": [
    "news_df = pd.DataFrame(news_list)\n",
    "news_df"
   ]
  },
  {
   "cell_type": "code",
   "execution_count": 10,
   "id": "e6839b76",
   "metadata": {},
   "outputs": [],
   "source": [
    "browser.quit()"
   ]
  }
 ],
 "metadata": {
  "kernelspec": {
   "display_name": "Python 3 (ipykernel)",
   "language": "python",
   "name": "python3"
  },
  "language_info": {
   "codemirror_mode": {
    "name": "ipython",
    "version": 3
   },
   "file_extension": ".py",
   "mimetype": "text/x-python",
   "name": "python",
   "nbconvert_exporter": "python",
   "pygments_lexer": "ipython3",
   "version": "3.9.13"
  }
 },
 "nbformat": 4,
 "nbformat_minor": 5
}
