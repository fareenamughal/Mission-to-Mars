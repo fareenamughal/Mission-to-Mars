{
 "cells": [
  {
   "cell_type": "markdown",
   "id": "cdf81690",
   "metadata": {},
   "source": [
    "## 11.6.3 Scraping Mars News"
   ]
  },
  {
   "cell_type": "code",
   "execution_count": 1,
   "id": "ae1cf93c",
   "metadata": {},
   "outputs": [],
   "source": [
    "# Import Splinter and BeautifulSoup\n",
    "from splinter import Browser\n",
    "from bs4 import BeautifulSoup as soup\n",
    "from webdriver_manager.chrome import ChromeDriverManager"
   ]
  },
  {
   "cell_type": "code",
   "execution_count": 2,
   "id": "e2487310",
   "metadata": {},
   "outputs": [],
   "source": [
    "# set the executable path. \n",
    "executable_path = {'executable_path': ChromeDriverManager().install()}\n",
    "browser = Browser('chrome', **executable_path, headless=False)"
   ]
  },
  {
   "cell_type": "code",
   "execution_count": 3,
   "id": "df653769",
   "metadata": {},
   "outputs": [
    {
     "data": {
      "text/plain": [
       "True"
      ]
     },
     "execution_count": 3,
     "metadata": {},
     "output_type": "execute_result"
    }
   ],
   "source": [
    "# assign the URL, and instruct the browser to visit it\n",
    "# Visit the Mars NASA news site\n",
    "url = 'https://redplanetscience.com'\n",
    "browser.visit(url)\n",
    "# Optional delay for loading the page\n",
    "browser.is_element_present_by_css('div.list_text', wait_time=1)"
   ]
  },
  {
   "cell_type": "code",
   "execution_count": 4,
   "id": "b27d95c3",
   "metadata": {},
   "outputs": [],
   "source": [
    "# In the preceding code, the last line, browser.is_element_present_by_css('div.list_text', wait_time=1), accomplishes two things. The first is that the is_element_present_by_css method searches for elements with a specific combination of tag (div) and attribute (list_text). For example, if we used ul.item_list, the method would find <ul class=\"item_list\">.\n",
    "# Recall that a CSS class attribute gets represented with a period (.). And, an id attribute gets represented with a hashtag (#). So, a div element that has a class attribute of list_text gets notated as div.list_text. Likewise, a button element that has an id attribute of more gets notated as button#more. And, remember that an id attribute value must be unique on a webpage.\n",
    "\n",
    "# The second thing that the last line of code accomplishes is that it tells the browser to wait one second before searching for components. This optional delay is useful because sometimes, dynamic pages take a little while to load—especially if they have lots of images.\n",
    "\n",
    "# The last line of code returns True, indicating that it found a div element with a list_text attribute.\n",
    "\n",
    "# Now, practice using the is_element_present_by_css method yourself in the following Skill Drill:\n"
   ]
  },
  {
   "cell_type": "code",
   "execution_count": 5,
   "id": "729344c0",
   "metadata": {},
   "outputs": [],
   "source": [
    "html = browser.html\n",
    "news_soup = soup(html, 'html.parser')\n",
    "slide_elem = news_soup.select_one('div.list_text')\n"
   ]
  },
  {
   "cell_type": "code",
   "execution_count": 6,
   "id": "0d0b348e",
   "metadata": {},
   "outputs": [],
   "source": [
    "# In the preceding code, we search for a <div /> tag that has a class attribute of list_text, and we assign the result to the slide_elem variable. This result is the parent element of each article, which means that it holds all the other elements within it. Later, we'll reference this when we want to filter our search results further.\n"
   ]
  },
  {
   "cell_type": "code",
   "execution_count": 7,
   "id": "8c9c5501",
   "metadata": {},
   "outputs": [],
   "source": [
    "# We want to assign the title and the summary text to variables that we can reference later. To do so, begin scraping by entering and running the following code in the next cell:"
   ]
  },
  {
   "cell_type": "code",
   "execution_count": 8,
   "id": "753d8c85",
   "metadata": {},
   "outputs": [
    {
     "name": "stdout",
     "output_type": "stream",
     "text": [
      "<div class=\"content_title\">From JPL's Mailroom to Mars and Beyond</div>\n"
     ]
    }
   ],
   "source": [
    "title_elem = slide_elem.find('div', class_='content_title')\n",
    "print(title_elem)"
   ]
  },
  {
   "cell_type": "code",
   "execution_count": null,
   "id": "1e81f539",
   "metadata": {},
   "outputs": [],
   "source": [
    "# In the preceding code, we chained the find method to our previously assigned slide_elem variable. By doing so, we're saying, \"This variable holds tons of information, so search that information to find this specific data.\" And, the specific data is the content title. We specify that inside the find method by using the 'div', class_='content_title' parameters, which mean, \"The specific data exists in a <div /> element that has a class attribute of content_title.\"\n",
    "\n",
    "# The output of running the cell is the HTML code that contains the content title along with anything else that’s nested inside that <div /> element. Specifically, the output resembles the following:\n"
   ]
  },
  {
   "cell_type": "code",
   "execution_count": 9,
   "id": "ef37a08c",
   "metadata": {},
   "outputs": [
    {
     "name": "stdout",
     "output_type": "stream",
     "text": [
      "From JPL's Mailroom to Mars and Beyond\n"
     ]
    }
   ],
   "source": [
    "# Get the title text. We don’t need the extra HTML code\n",
    "\n",
    "title = title_elem.get_text()\n",
    "print(title)"
   ]
  },
  {
   "cell_type": "code",
   "execution_count": null,
   "id": "822946cb",
   "metadata": {},
   "outputs": [],
   "source": [
    "# In the preceding code, the get_text method of the title_elem object returns only the title of the news article. So, the output consists of the most recently published title from the website. When the website gets updated with a new article, rerunning the code will return the title of that new article.\n",
    "\n",
    "# We have the title that we want, and that's a terrific start. Now, we need to get the summary text. To do so, we’ll use a block of code that’s similar to the last one.\n",
    "\n"
   ]
  },
  {
   "cell_type": "code",
   "execution_count": 15,
   "id": "2f57cfb0",
   "metadata": {},
   "outputs": [
    {
     "ename": "SyntaxError",
     "evalue": "invalid character '“' (U+201C) (199635592.py, line 4)",
     "output_type": "error",
     "traceback": [
      "\u001b[0;36m  File \u001b[0;32m\"/var/folders/9j/qz8w0j054q13y59z091md64h0000gn/T/ipykernel_16325/199635592.py\"\u001b[0;36m, line \u001b[0;32m4\u001b[0m\n\u001b[0;31m    news_p = slide_elem.find(“div”, class_=‘article_teaser_body’).get_text()\u001b[0m\n\u001b[0m                             ^\u001b[0m\n\u001b[0;31mSyntaxError\u001b[0m\u001b[0;31m:\u001b[0m invalid character '“' (U+201C)\n"
     ]
    }
   ],
   "source": [
    "# What will we need to change in the following line of code to scrape the article summary instead of the title: \n",
    "# We’ll need to change the class to “article_teaser_body.\n",
    "\n",
    "news_p = slide_elem.find(“div”, class_=‘article_teaser_body’).get_text()\n",
    " = news_p"
   ]
  },
  {
   "cell_type": "code",
   "execution_count": null,
   "id": "df849f91",
   "metadata": {},
   "outputs": [],
   "source": [
    "# But before we add this code, we need to make sure that we scrape the right tag and class. To do so, in DevTools, click the “Select an element in the page to inspect it” button, and then on the webpage, select the article summary (also known as a teaser). Then in DevTools, check which tag is selected. It should be the following:"
   ]
  },
  {
   "cell_type": "code",
   "execution_count": 13,
   "id": "92f51a18",
   "metadata": {},
   "outputs": [
    {
     "ename": "SyntaxError",
     "evalue": "invalid syntax (1211537904.py, line 1)",
     "output_type": "error",
     "traceback": [
      "\u001b[0;36m  File \u001b[0;32m\"/var/folders/9j/qz8w0j054q13y59z091md64h0000gn/T/ipykernel_16325/1211537904.py\"\u001b[0;36m, line \u001b[0;32m1\u001b[0m\n\u001b[0;31m    <div class=\"article_teaser_body\">\u001b[0m\n\u001b[0m    ^\u001b[0m\n\u001b[0;31mSyntaxError\u001b[0m\u001b[0;31m:\u001b[0m invalid syntax\n"
     ]
    }
   ],
   "source": [
    "<div class=\"article_teaser_body\">"
   ]
  },
  {
   "cell_type": "code",
   "execution_count": 14,
   "id": "d4b36055",
   "metadata": {},
   "outputs": [
    {
     "data": {
      "text/plain": [
       "'Bill Allen has thrived as the mechanical systems design lead for three Mars rover missions, but he got his start as a teenager sorting letters for the NASA center.'"
      ]
     },
     "execution_count": 14,
     "metadata": {},
     "output_type": "execute_result"
    }
   ],
   "source": [
    "# For now, we want to extract only the first one—the most recent one. (We want only new news!) And because new articles get added to the beginning of the list, our search leads us to the first article.\n",
    "\n",
    "# To get the summary text, in the next cell, enter and run the following code:\n",
    "\n",
    "# Use the parent element to find the paragraph text\n",
    "news_p = slide_elem.find('div', class_='article_teaser_body').text\n",
    "news_p\n",
    "\n",
    "#The output is just the article summary, which resembles that in the following image:\n",
    "\n"
   ]
  },
  {
   "cell_type": "code",
   "execution_count": null,
   "id": "edf28d8c",
   "metadata": {},
   "outputs": [],
   "source": [
    "browser.quit()"
   ]
  },
  {
   "cell_type": "code",
   "execution_count": null,
   "id": "2a10abe9",
   "metadata": {},
   "outputs": [],
   "source": []
  },
  {
   "cell_type": "code",
   "execution_count": null,
   "id": "0c9bd69d",
   "metadata": {},
   "outputs": [],
   "source": []
  },
  {
   "cell_type": "code",
   "execution_count": null,
   "id": "51213c5e",
   "metadata": {},
   "outputs": [],
   "source": []
  },
  {
   "cell_type": "code",
   "execution_count": null,
   "id": "552193b2",
   "metadata": {},
   "outputs": [],
   "source": []
  },
  {
   "cell_type": "code",
   "execution_count": null,
   "id": "06f96a9f",
   "metadata": {},
   "outputs": [],
   "source": []
  },
  {
   "cell_type": "code",
   "execution_count": null,
   "id": "402ddd59",
   "metadata": {},
   "outputs": [],
   "source": []
  },
  {
   "cell_type": "code",
   "execution_count": null,
   "id": "1bf9d4c6",
   "metadata": {},
   "outputs": [],
   "source": []
  },
  {
   "cell_type": "code",
   "execution_count": null,
   "id": "7c154b61",
   "metadata": {},
   "outputs": [],
   "source": []
  },
  {
   "cell_type": "code",
   "execution_count": null,
   "id": "aeec7569",
   "metadata": {},
   "outputs": [],
   "source": []
  },
  {
   "cell_type": "code",
   "execution_count": null,
   "id": "6e1633c9",
   "metadata": {},
   "outputs": [],
   "source": []
  },
  {
   "cell_type": "code",
   "execution_count": null,
   "id": "6b22243a",
   "metadata": {},
   "outputs": [],
   "source": []
  },
  {
   "cell_type": "code",
   "execution_count": null,
   "id": "0d67636e",
   "metadata": {},
   "outputs": [],
   "source": []
  },
  {
   "cell_type": "code",
   "execution_count": null,
   "id": "4cc4d042",
   "metadata": {},
   "outputs": [],
   "source": []
  },
  {
   "cell_type": "code",
   "execution_count": null,
   "id": "8f546259",
   "metadata": {},
   "outputs": [],
   "source": []
  },
  {
   "cell_type": "code",
   "execution_count": null,
   "id": "b30d4729",
   "metadata": {},
   "outputs": [],
   "source": []
  },
  {
   "cell_type": "code",
   "execution_count": null,
   "id": "a422386d",
   "metadata": {},
   "outputs": [],
   "source": []
  },
  {
   "cell_type": "code",
   "execution_count": null,
   "id": "847aa7b2",
   "metadata": {},
   "outputs": [],
   "source": []
  },
  {
   "cell_type": "code",
   "execution_count": null,
   "id": "35f25829",
   "metadata": {},
   "outputs": [],
   "source": []
  },
  {
   "cell_type": "code",
   "execution_count": null,
   "id": "f4b92a1a",
   "metadata": {},
   "outputs": [],
   "source": []
  }
 ],
 "metadata": {
  "kernelspec": {
   "display_name": "Python 3 (ipykernel)",
   "language": "python",
   "name": "python3"
  },
  "language_info": {
   "codemirror_mode": {
    "name": "ipython",
    "version": 3
   },
   "file_extension": ".py",
   "mimetype": "text/x-python",
   "name": "python",
   "nbconvert_exporter": "python",
   "pygments_lexer": "ipython3",
   "version": "3.9.13"
  }
 },
 "nbformat": 4,
 "nbformat_minor": 5
}
