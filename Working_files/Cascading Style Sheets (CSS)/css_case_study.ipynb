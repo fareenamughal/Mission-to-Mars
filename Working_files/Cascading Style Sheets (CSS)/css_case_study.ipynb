{
 "cells": [
  {
   "cell_type": "code",
   "execution_count": 1,
   "id": "f1fa5c11",
   "metadata": {},
   "outputs": [],
   "source": [
    "from bs4 import BeautifulSoup as soup"
   ]
  },
  {
   "cell_type": "code",
   "execution_count": 2,
   "id": "3805eb3e",
   "metadata": {},
   "outputs": [],
   "source": [
    "# assigned the entire block of HTML code to the html variable as a string."
   ]
  },
  {
   "cell_type": "code",
   "execution_count": 3,
   "id": "5a5b977f",
   "metadata": {},
   "outputs": [],
   "source": [
    "html = \"\"\"\n",
    "<!DOCTYPE html>\n",
    "<html lang=\"en\">\n",
    "\n",
    "<head>\n",
    "    <meta charset=\"UTF-8\">\n",
    "    <meta http-equiv=\"X-UA-Compatible\" content=\"IE=edge\">\n",
    "    <meta name=\"viewport\" content=\"width=device-width, initial-scale=1.0\">\n",
    "    <title>Document</title>\n",
    "</head>\n",
    "\n",
    "<style>\n",
    "    .even {\n",
    "        color: blue;\n",
    "    }\n",
    "\n",
    "    .odd {\n",
    "        color: green;\n",
    "    }\n",
    "</style>\n",
    "\n",
    "<body>\n",
    "    <div>\n",
    "        <p class=\"odd\" id=\"first\">First</p>\n",
    "        <p class=\"even\" id=\"second\">Second</p>\n",
    "        <p class=\"odd\" id=\"third\">Third</p>\n",
    "    </div>\n",
    "\n",
    "    <div>\n",
    "        <p class=\"even\" id=\"fourth\">Fourth</p>\n",
    "        <p class=\"odd\" id=\"fifth\">Fifth</p>\n",
    "        <p class=\"even\" id=\"sixth\">Sixth</p>\n",
    "    </div>\n",
    "</body>\n",
    "\n",
    "</html>\n",
    "\"\"\""
   ]
  },
  {
   "cell_type": "code",
   "execution_count": 4,
   "id": "33c5814b",
   "metadata": {},
   "outputs": [],
   "source": [
    "# line of code converts the HTML string into a Beautiful Soup object.\n",
    "\n",
    "html_soup = soup(html, 'html.parser')"
   ]
  },
  {
   "cell_type": "code",
   "execution_count": 5,
   "id": "e69f3303",
   "metadata": {},
   "outputs": [],
   "source": [
    "# use that object to choose and retrieve specific parts of the HTML code\n",
    "# scrape all the paragraph elements that belong to the odd class\n",
    "# use the Beautiful Soup find_all method\n",
    "# takes two arguments \n",
    "# The first argument, \"p\", specifies that we're searching for paragraphs—that is, p elements.\n",
    "# The second argument, class_=\"odd\", specifies that the elements must belong to the odd class.\n",
    "# Notice the underscore (_) at the end of class_. We use an underscore because class is a reserved wordLinks to an external site. in Python.\n",
    "\n",
    "\n",
    "odds = html_soup.find_all(\"p\", class_=\"odd\")"
   ]
  },
  {
   "cell_type": "code",
   "execution_count": 6,
   "id": "1353ae18",
   "metadata": {},
   "outputs": [
    {
     "name": "stdout",
     "output_type": "stream",
     "text": [
      "<p class=\"odd\" id=\"first\">First</p>\n",
      "<p class=\"odd\" id=\"third\">Third</p>\n",
      "<p class=\"odd\" id=\"fifth\">Fifth</p>\n"
     ]
    }
   ],
   "source": [
    "# iterate through the results and display them by using a for loop.\n",
    "\n",
    "for odd in odds:\n",
    "    print(odd)"
   ]
  },
  {
   "cell_type": "code",
   "execution_count": 7,
   "id": "480db893",
   "metadata": {},
   "outputs": [],
   "source": [
    "paragraphs = html_soup.find_all(\"p\")"
   ]
  },
  {
   "cell_type": "code",
   "execution_count": 8,
   "id": "90abe91b",
   "metadata": {},
   "outputs": [
    {
     "name": "stdout",
     "output_type": "stream",
     "text": [
      "<p class=\"odd\" id=\"first\">First</p>\n",
      "<p class=\"even\" id=\"second\">Second</p>\n",
      "<p class=\"odd\" id=\"third\">Third</p>\n",
      "<p class=\"even\" id=\"fourth\">Fourth</p>\n",
      "<p class=\"odd\" id=\"fifth\">Fifth</p>\n",
      "<p class=\"even\" id=\"sixth\">Sixth</p>\n"
     ]
    }
   ],
   "source": [
    "#  for loop to print only the text of each paragraph. You can do so by using the text attribute.\n",
    "for p in paragraphs:\n",
    "    print(p)"
   ]
  },
  {
   "cell_type": "code",
   "execution_count": 9,
   "id": "cb6376e7",
   "metadata": {},
   "outputs": [
    {
     "name": "stdout",
     "output_type": "stream",
     "text": [
      "['first', 'second', 'third', 'fourth', 'fifth', 'sixth']\n"
     ]
    }
   ],
   "source": [
    "# Use a for loop to print only the text of each paragraph. by using a Python list comprehension\n",
    "paragraphs = ['first', 'second', 'third', 'fourth', 'fifth', 'sixth']\n",
    "print(paragraphs)\n"
   ]
  },
  {
   "cell_type": "code",
   "execution_count": 10,
   "id": "4bf1e752",
   "metadata": {},
   "outputs": [
    {
     "name": "stdout",
     "output_type": "stream",
     "text": [
      "<p class=\"even\" id=\"second\">Second</p>\n",
      "<p class=\"even\" id=\"fourth\">Fourth</p>\n",
      "<p class=\"even\" id=\"sixth\">Sixth</p>\n"
     ]
    }
   ],
   "source": [
    "# printing the text of all the p elements that belong to the even class.\n",
    "\n",
    "evens = html_soup.find_all(\"p\", class_=\"even\")\n",
    "\n",
    "# iterate through the results and display them by using a for loop.\n",
    "\n",
    "for even in evens:\n",
    "    print(even)"
   ]
  },
  {
   "cell_type": "code",
   "execution_count": null,
   "id": "09689b4d",
   "metadata": {},
   "outputs": [],
   "source": []
  },
  {
   "cell_type": "code",
   "execution_count": null,
   "id": "2e7615c6",
   "metadata": {},
   "outputs": [],
   "source": [
    "# CSS Case Study: Part 2\n",
    "# Now that you’ve identified HTML elements by using the CSS class selector, you’ll do the same but using the id selector. Recall that a class can contain multiple elements but that an id must be unique.\n",
    "\n",
    "# To begin, you’ll scrape the text from a paragraph element that has an id of first. To do so, paste the following code into the next cell, and then run the code:"
   ]
  },
  {
   "cell_type": "code",
   "execution_count": 13,
   "id": "95da396b",
   "metadata": {},
   "outputs": [
    {
     "name": "stdout",
     "output_type": "stream",
     "text": [
      "First\n"
     ]
    }
   ],
   "source": [
    "#  use the find method instead of find_all and the id argument instead of class_.\n",
    "\n",
    "first = html_soup.find('p', id=\"first\")\n",
    "print(first.text)"
   ]
  },
  {
   "cell_type": "code",
   "execution_count": null,
   "id": "75a2c7b4",
   "metadata": {},
   "outputs": [],
   "source": []
  }
 ],
 "metadata": {
  "kernelspec": {
   "display_name": "Python 3 (ipykernel)",
   "language": "python",
   "name": "python3"
  },
  "language_info": {
   "codemirror_mode": {
    "name": "ipython",
    "version": 3
   },
   "file_extension": ".py",
   "mimetype": "text/x-python",
   "name": "python",
   "nbconvert_exporter": "python",
   "pygments_lexer": "ipython3",
   "version": "3.9.13"
  }
 },
 "nbformat": 4,
 "nbformat_minor": 5
}
