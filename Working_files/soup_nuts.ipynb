{
 "cells": [
  {
   "cell_type": "code",
   "execution_count": 1,
   "id": "959af9b9",
   "metadata": {},
   "outputs": [],
   "source": [
    "from bs4 import BeautifulSoup"
   ]
  },
  {
   "cell_type": "code",
   "execution_count": 2,
   "id": "9684ab2f",
   "metadata": {},
   "outputs": [],
   "source": [
    "html=\"\"\"<!DOCTYPE html>\n",
    "<html lang=\"en\">\n",
    "\n",
    "<head>\n",
    "  <meta charset=\"UTF-8\">\n",
    "  <title>Some Common HTML Tags</title>\n",
    "</head>\n",
    "\n",
    "<body>\n",
    "  <!-- any weird symbols here such as &gt; or &lt; are HTML escape characters. http://www.theukwebdesigncompany.com/articles/entity-escape-characters.php -->\n",
    "  <!-- these allow us to do things like write escaped HTML, or HTML that just gets rendered as text in the document -->\n",
    "  <h1>Some Common HTML Tags</h1>\n",
    "  <section>\n",
    "    <hr>\n",
    "    <h2>Paragraph Tags</h2>\n",
    "    <p>\n",
    "      <code>&lt;p&gt;</code> tags are for containing blocks of text. A paragraph tag is a block level element, so by default, each paragraph tag will take up it's own line.\n",
    "      <a target=\"_blank\" href=\"https://developer.mozilla.org/en-US/docs/Web/HTML/Element/p\">Learn More!</a>\n",
    "    </p>\n",
    "  </section>\n",
    "\n",
    "  <section>\n",
    "    <hr>\n",
    "    <h2>Heading Tags</h2>\n",
    "    <p>\n",
    "      <code>&lt;h1&gt; - &lt;h6&gt;</code> tags are for containing larger sizes of heading text for things such as titles or subtitles. Not to be confused with header or head tags.\n",
    "      <a target=\"_blank\" href=\"https://developer.mozilla.org/en-US/docs/Web/HTML/Element/Heading_Elements\">Learn More!</a>\n",
    "    </p>\n",
    "  </section>\n",
    "\n",
    "  <section>\n",
    "    <hr>\n",
    "    <h2>Horizontal Rule Tags</h2>\n",
    "    <p>\n",
    "      <code>&lt;hr /&gt;</code> tags are for seperating content with a horizontal rule. This element is self closing, so so you'd just write <code>&lt;hr&gt;</code> instead of <code>&lt;hr&gt;&lt;/hr&gt;</code> to use it in your document.\n",
    "      <a target=\"_blank\" href=\"https://developer.mozilla.org/en-US/docs/Web/HTML/Element/hr\">Learn More!</a>\n",
    "    </p>\n",
    "  </section>\n",
    "\n",
    "  <section>\n",
    "    <hr>\n",
    "    <h2>Image Tags</h2>\n",
    "    <p>\n",
    "      <code>&lt;img /&gt;</code> tags are for representing images in your HTML document. In order to display an image inside of an img element, we need to direct it to the image we want to display. We pass this information into a <code>\"src\"</code>      attribute we attach to the img element.\n",
    "    </p>\n",
    "    <p>For example, this HTML: <br><code>&lt;img src=\"http://az616578.vo.msecnd.net/files/2016/07/08/6360356198438627441310256453_dog%20college.jpg\" /&gt;</code></p>\n",
    "    <p>Produces this image in our document: <br><img width=\"200\" src=\"http://az616578.vo.msecnd.net/files/2016/07/08/6360356198438627441310256453_dog%20college.jpg\" /></p>\n",
    "    <p>\n",
    "      <a target=\"_blank\" href=\"https://developer.mozilla.org/en-US/docs/Web/HTML/Element/img\">Learn More!</a>\n",
    "    </p>\n",
    "  </section>\n",
    "\n",
    "  <section>\n",
    "    <hr>\n",
    "    <h2>Anchor tags</h2>\n",
    "    <p>\n",
    "      <code>&lt;a&gt;</code> tags are for creating hyperlinks in webpages. At a minimum, we need to provide an <code>\"href\"</code> attribute to our anchor tag. We pass the url we want our hyperlink to direct to into this <code>\"href\"</code> attribute. This serves a similar purpose as the <code>\"src\"</code> attribute does for images.\n",
    "    </p>\n",
    "    <p>\n",
    "      For example, this HTML:\n",
    "      <code>&lt;a href=&quot;https:&#x2F;&#x2F;github.com&#x2F;&quot;&gt;Link to Github&lt;&#x2F;a&gt;</code>\n",
    "    </p>\n",
    "    <p>\n",
    "      Produces this hyperlink:\n",
    "      <a href=\"https://github.com/\">Link to Github</a>\n",
    "    </p>\n",
    "    <p>\n",
    "      <a target=\"_blank\" href=\"https://developer.mozilla.org/en-US/docs/Web/HTML/Element/hr\">Learn More!</a>\n",
    "    </p>\n",
    "  </section>\n",
    "\n",
    "  <section>\n",
    "    <hr>\n",
    "    <h2>Unordered and Ordered Lists</h2>\n",
    "    <p>\n",
    "      <code>&lt;ul&gt;</code> and <code>&lt;li&gt;</code> tags are for rendering an unordered list in your HTML document.\n",
    "    </p>\n",
    "    <p>For example, this HTML:</p>\n",
    "    <code>\n",
    "      &lt;ul&gt;<br>\n",
    "      &nbsp;&nbsp;&lt;li&gt;Monday&lt;/li&gt;<br>\n",
    "      &nbsp;&nbsp;&lt;li&gt;Tuesday&lt;/li&gt;<br>\n",
    "      &nbsp;&nbsp;&lt;li&gt;Thursday&lt;/li&gt;<br>\n",
    "      &lt;/ul&gt;<br>\n",
    "    </code>\n",
    "    <p>\n",
    "      Produces this list in our document:\n",
    "    </p>\n",
    "    <ul>\n",
    "      <li>Monday</li>\n",
    "      <li>Tuesday</li>\n",
    "      <li>Thursday</li>\n",
    "    </ul>\n",
    "    <p>We can produce an ordered list simply by swapping out the <code>ul</code> element for an <code>ol</code> element:</p>\n",
    "     <code>\n",
    "      &lt;ol&gt;<br>\n",
    "      &nbsp;&nbsp;&lt;li&gt;Monday&lt;/li&gt;<br>\n",
    "      &nbsp;&nbsp;&lt;li&gt;Tuesday&lt;/li&gt;<br>\n",
    "      &nbsp;&nbsp;&lt;li&gt;Thursday&lt;/li&gt;<br>\n",
    "      &lt;/ol&gt;<br>\n",
    "    </code>\n",
    "    <ol>\n",
    "      <li>Monday</li>\n",
    "      <li>Tuesday</li>\n",
    "      <li>Thursday</li>\n",
    "    </ol>\n",
    "    <p>\n",
    "      <a target=\"_blank\" href=\"https://developer.mozilla.org/en-US/docs/Web/HTML/Element/ul\">Learn More! (Unordered Lists)</a>\n",
    "      <br>\n",
    "      <br>\n",
    "      <a target=\"_blank\" href=\"https://developer.mozilla.org/en-US/docs/Web/HTML/Element/ul\">Learn More! (Ordered Lists)</a>\n",
    "    </p>\n",
    "  </section>\n",
    "\n",
    "  <section>\n",
    "    <hr>\n",
    "    <h2>Tables</h2>\n",
    "    <p>\n",
    "      <code>&lt;table&gt;</code> tags are for representing tabular data inside of a table. On their own, <code>table</code> tags don't do much. So we nest <code>&lt;tr&gt;</code>, <code>&lt;td&gt;</code> <code>&lt;th&gt;</code> tags\n",
    "      inside.\n",
    "    </p>\n",
    "    <p>For example, this HTML:</p>\n",
    "    <section>\n",
    "      <code>\n",
    "      &lt;table border=&quot;1&quot;&gt;\n",
    "        <br>&nbsp;&nbsp;&lt;tr&gt;\n",
    "        <br>&nbsp;&nbsp;&nbsp;&nbsp;&lt;th&gt;Company&lt;&#x2F;th&gt;\n",
    "        <br>&nbsp;&nbsp;&nbsp;&nbsp;&lt;th&gt;Contact&lt;&#x2F;th&gt;\n",
    "        <br>&nbsp;&nbsp;&nbsp;&nbsp;&lt;th&gt;Email&lt;&#x2F;th&gt;\n",
    "        <br>&nbsp;&nbsp;&lt;&#x2F;tr&gt;\n",
    "        <br>&nbsp;&nbsp;&lt;tr&gt;\n",
    "        <br>&nbsp;&nbsp;&nbsp;&nbsp;&lt;td&gt;Google&lt;&#x2F;td&gt;\n",
    "        <br>&nbsp;&nbsp;&nbsp;&nbsp;&lt;td&gt;Sergey Brin&lt;&#x2F;td&gt;\n",
    "        <br>&nbsp;&nbsp;&nbsp;&nbsp;&lt;td&gt;sergey@google.com&lt;&#x2F;td&gt;\n",
    "        <br>&nbsp;&nbsp;&lt;&#x2F;tr&gt;\n",
    "        <br>&nbsp;&nbsp;&lt;tr&gt;\n",
    "        <br>&nbsp;&nbsp;&nbsp;&nbsp;&lt;td&gt;Facebook&lt;&#x2F;td&gt;\n",
    "        <br>&nbsp;&nbsp;&nbsp;&nbsp;&lt;td&gt;Mark Zuckerburg&lt;&#x2F;td&gt;\n",
    "        <br>&nbsp;&nbsp;&nbsp;&nbsp;&lt;td&gt;mark@facebook.com&lt;&#x2F;td&gt;\n",
    "        <br>&nbsp;&nbsp;&lt;&#x2F;tr&gt;\n",
    "        <br>&nbsp;&nbsp;&nbsp;&lt;tr&gt;\n",
    "        <br>&nbsp;&nbsp;&nbsp;&nbsp;&lt;td&gt;Space X&lt;&#x2F;td&gt;\n",
    "        <br>&nbsp;&nbsp;&nbsp;&nbsp;&lt;td&gt;Elon Musk&lt;&#x2F;td&gt;\n",
    "        <br>&nbsp;&nbsp;&nbsp;&nbsp;&lt;td&gt;elon@spacex.com&lt;&#x2F;td&gt;\n",
    "        <br>&nbsp;&nbsp;&lt;&#x2F;tr&gt;\n",
    "        <br>&nbsp;&nbsp;&lt;tr&gt;\n",
    "        <br>&nbsp;&nbsp;&nbsp;&nbsp;&lt;td&gt;Amazon&lt;&#x2F;td&gt;\n",
    "        <br>&nbsp;&nbsp;&nbsp;&nbsp;&lt;td&gt;Jeff Bezos&lt;&#x2F;td&gt;\n",
    "        <br>&nbsp;&nbsp;&nbsp;&nbsp;&lt;td&gt;jeff@amazon.com&lt;&#x2F;td&gt;\n",
    "        <br>&nbsp;&nbsp;&lt;&#x2F;tr&gt;\n",
    "        <br>&lt;&#x2F;table&gt;\n",
    "      </code>\n",
    "    </section>\n",
    "    <p>Produces this table:</p>\n",
    "    <table border=\"1\">\n",
    "      <tr>\n",
    "        <th>Company</th>\n",
    "        <th>Contact</th>\n",
    "        <th>Email</th>\n",
    "      </tr>\n",
    "      <tr>\n",
    "        <td>Google</td>\n",
    "        <td>Sergey Brin</td>\n",
    "        <td>sergey@google.com</td>\n",
    "      </tr>\n",
    "      <tr>\n",
    "        <td>Facebook</td>\n",
    "        <td>Mark Zuckerburg</td>\n",
    "        <td>mark@facebook.com</td>\n",
    "      </tr>\n",
    "      <tr>\n",
    "        <td>Space X</td>\n",
    "        <td>Elon Musk</td>\n",
    "        <td>elon@spacex.com</td>\n",
    "      </tr>\n",
    "      <tr>\n",
    "        <td>Amazon</td>\n",
    "        <td>Jeff Bezos</td>\n",
    "        <td>jeff@amazon.com</td>\n",
    "      </tr>\n",
    "    </table>\n",
    "    <p>\n",
    "      <a target=\"_blank\" href=\"https://developer.mozilla.org/en-US/docs/Web/HTML/Element/table\">Learn More!</a>\n",
    "    </p>\n",
    "  </section>\n",
    "\n",
    "  <section>\n",
    "    <hr>\n",
    "    <h2>Division Tags</h2>\n",
    "    <p>\n",
    "      <code>&lt;div&gt;</code> tags are meant to be generic container elements with no semantic meaning other than those given to them by their classes and id attributes. You can group elements together by throwing them inside of the same div tag.\n",
    "    </p>\n",
    "    <p>There are other more semantic HTML tags such as <a href=\"https://developer.mozilla.org/en-US/docs/Web/HTML/Element/article\">articles</a> or\n",
    "      <a href=\"https://developer.mozilla.org/en-US/docs/Web/HTML/Element/nav\">navs</a> or <a href=\"https://developer.mozilla.org/en-US/docs/Web/HTML/Element/footer\">footers</a> which behave the exact same way as div elements do, but are designed to be\n",
    "      used for specifc purposes. These should be used whenever possible for a few reasons, but one of the most practical is that code is easier to understand and debug when things are named what they actually are.\n",
    "      <a target=\"_blank\" href=\"https://developer.mozilla.org/en-US/docs/Web/HTML/Element/div\">Learn More!</a>\n",
    "    </p>\n",
    "  </section>\n",
    "\n",
    "  <section>\n",
    "    <hr>\n",
    "    <h2>Strong Tags</h2>\n",
    "    <p>\n",
    "      <code>&lt;strong&gt;</code> tags give any nested text a bold font weight. If you'd like to make text bold, put the text inside of <code>&lt;strong&gt;<strong>this text will be bold</strong>&lt;/strong&gt;</code>. In addition to browsers rendering text inside strong elements\n",
    "      as bold by default, strong has another semantic meaning. It's meant for text which is supposed to be serious or urgent.\n",
    "      <a target=\"_blank\" href=\"https://developer.mozilla.org/en-US/docs/Web/HTML/Element/strong\">Learn More!</a>\n",
    "    </p>\n",
    "  </section>\n",
    "\n",
    "</body>\n",
    "\n",
    "</html>\n",
    "\n",
    "\"\"\""
   ]
  },
  {
   "cell_type": "code",
   "execution_count": 5,
   "id": "4c4f8501",
   "metadata": {},
   "outputs": [
    {
     "name": "stdout",
     "output_type": "stream",
     "text": [
      "<!DOCTYPE html>\n",
      "\n",
      "<html lang=\"en\">\n",
      "<head>\n",
      "<meta charset=\"utf-8\"/>\n",
      "<title>Some Common HTML Tags</title>\n",
      "</head>\n",
      "<body>\n",
      "<!-- any weird symbols here such as &gt; or &lt; are HTML escape characters. http://www.theukwebdesigncompany.com/articles/entity-escape-characters.php -->\n",
      "<!-- these allow us to do things like write escaped HTML, or HTML that just gets rendered as text in the document -->\n",
      "<h1>Some Common HTML Tags</h1>\n",
      "<section>\n",
      "<hr/>\n",
      "<h2>Paragraph Tags</h2>\n",
      "<p>\n",
      "<code>&lt;p&gt;</code> tags are for containing blocks of text. A paragraph tag is a block level element, so by default, each paragraph tag will take up it's own line.\n",
      "      <a href=\"https://developer.mozilla.org/en-US/docs/Web/HTML/Element/p\" target=\"_blank\">Learn More!</a>\n",
      "</p>\n",
      "</section>\n",
      "<section>\n",
      "<hr/>\n",
      "<h2>Heading Tags</h2>\n",
      "<p>\n",
      "<code>&lt;h1&gt; - &lt;h6&gt;</code> tags are for containing larger sizes of heading text for things such as titles or subtitles. Not to be confused with header or head tags.\n",
      "      <a href=\"https://developer.mozilla.org/en-US/docs/Web/HTML/Element/Heading_Elements\" target=\"_blank\">Learn More!</a>\n",
      "</p>\n",
      "</section>\n",
      "<section>\n",
      "<hr/>\n",
      "<h2>Horizontal Rule Tags</h2>\n",
      "<p>\n",
      "<code>&lt;hr /&gt;</code> tags are for seperating content with a horizontal rule. This element is self closing, so so you'd just write <code>&lt;hr&gt;</code> instead of <code>&lt;hr&gt;&lt;/hr&gt;</code> to use it in your document.\n",
      "      <a href=\"https://developer.mozilla.org/en-US/docs/Web/HTML/Element/hr\" target=\"_blank\">Learn More!</a>\n",
      "</p>\n",
      "</section>\n",
      "<section>\n",
      "<hr/>\n",
      "<h2>Image Tags</h2>\n",
      "<p>\n",
      "<code>&lt;img /&gt;</code> tags are for representing images in your HTML document. In order to display an image inside of an img element, we need to direct it to the image we want to display. We pass this information into a <code>\"src\"</code>      attribute we attach to the img element.\n",
      "    </p>\n",
      "<p>For example, this HTML: <br/><code>&lt;img src=\"http://az616578.vo.msecnd.net/files/2016/07/08/6360356198438627441310256453_dog%20college.jpg\" /&gt;</code></p>\n",
      "<p>Produces this image in our document: <br/><img src=\"http://az616578.vo.msecnd.net/files/2016/07/08/6360356198438627441310256453_dog%20college.jpg\" width=\"200\"/></p>\n",
      "<p>\n",
      "<a href=\"https://developer.mozilla.org/en-US/docs/Web/HTML/Element/img\" target=\"_blank\">Learn More!</a>\n",
      "</p>\n",
      "</section>\n",
      "<section>\n",
      "<hr/>\n",
      "<h2>Anchor tags</h2>\n",
      "<p>\n",
      "<code>&lt;a&gt;</code> tags are for creating hyperlinks in webpages. At a minimum, we need to provide an <code>\"href\"</code> attribute to our anchor tag. We pass the url we want our hyperlink to direct to into this <code>\"href\"</code> attribute. This serves a similar purpose as the <code>\"src\"</code> attribute does for images.\n",
      "    </p>\n",
      "<p>\n",
      "      For example, this HTML:\n",
      "      <code>&lt;a href=\"https://github.com/\"&gt;Link to Github&lt;/a&gt;</code>\n",
      "</p>\n",
      "<p>\n",
      "      Produces this hyperlink:\n",
      "      <a href=\"https://github.com/\">Link to Github</a>\n",
      "</p>\n",
      "<p>\n",
      "<a href=\"https://developer.mozilla.org/en-US/docs/Web/HTML/Element/hr\" target=\"_blank\">Learn More!</a>\n",
      "</p>\n",
      "</section>\n",
      "<section>\n",
      "<hr/>\n",
      "<h2>Unordered and Ordered Lists</h2>\n",
      "<p>\n",
      "<code>&lt;ul&gt;</code> and <code>&lt;li&gt;</code> tags are for rendering an unordered list in your HTML document.\n",
      "    </p>\n",
      "<p>For example, this HTML:</p>\n",
      "<code>\n",
      "      &lt;ul&gt;<br/>\n",
      "        &lt;li&gt;Monday&lt;/li&gt;<br/>\n",
      "        &lt;li&gt;Tuesday&lt;/li&gt;<br/>\n",
      "        &lt;li&gt;Thursday&lt;/li&gt;<br/>\n",
      "      &lt;/ul&gt;<br/>\n",
      "</code>\n",
      "<p>\n",
      "      Produces this list in our document:\n",
      "    </p>\n",
      "<ul>\n",
      "<li>Monday</li>\n",
      "<li>Tuesday</li>\n",
      "<li>Thursday</li>\n",
      "</ul>\n",
      "<p>We can produce an ordered list simply by swapping out the <code>ul</code> element for an <code>ol</code> element:</p>\n",
      "<code>\n",
      "      &lt;ol&gt;<br/>\n",
      "        &lt;li&gt;Monday&lt;/li&gt;<br/>\n",
      "        &lt;li&gt;Tuesday&lt;/li&gt;<br/>\n",
      "        &lt;li&gt;Thursday&lt;/li&gt;<br/>\n",
      "      &lt;/ol&gt;<br/>\n",
      "</code>\n",
      "<ol>\n",
      "<li>Monday</li>\n",
      "<li>Tuesday</li>\n",
      "<li>Thursday</li>\n",
      "</ol>\n",
      "<p>\n",
      "<a href=\"https://developer.mozilla.org/en-US/docs/Web/HTML/Element/ul\" target=\"_blank\">Learn More! (Unordered Lists)</a>\n",
      "<br/>\n",
      "<br/>\n",
      "<a href=\"https://developer.mozilla.org/en-US/docs/Web/HTML/Element/ul\" target=\"_blank\">Learn More! (Ordered Lists)</a>\n",
      "</p>\n",
      "</section>\n",
      "<section>\n",
      "<hr/>\n",
      "<h2>Tables</h2>\n",
      "<p>\n",
      "<code>&lt;table&gt;</code> tags are for representing tabular data inside of a table. On their own, <code>table</code> tags don't do much. So we nest <code>&lt;tr&gt;</code>, <code>&lt;td&gt;</code> <code>&lt;th&gt;</code> tags\n",
      "      inside.\n",
      "    </p>\n",
      "<p>For example, this HTML:</p>\n",
      "<section>\n",
      "<code>\n",
      "      &lt;table border=\"1\"&gt;\n",
      "        <br/>  &lt;tr&gt;\n",
      "        <br/>    &lt;th&gt;Company&lt;/th&gt;\n",
      "        <br/>    &lt;th&gt;Contact&lt;/th&gt;\n",
      "        <br/>    &lt;th&gt;Email&lt;/th&gt;\n",
      "        <br/>  &lt;/tr&gt;\n",
      "        <br/>  &lt;tr&gt;\n",
      "        <br/>    &lt;td&gt;Google&lt;/td&gt;\n",
      "        <br/>    &lt;td&gt;Sergey Brin&lt;/td&gt;\n",
      "        <br/>    &lt;td&gt;sergey@google.com&lt;/td&gt;\n",
      "        <br/>  &lt;/tr&gt;\n",
      "        <br/>  &lt;tr&gt;\n",
      "        <br/>    &lt;td&gt;Facebook&lt;/td&gt;\n",
      "        <br/>    &lt;td&gt;Mark Zuckerburg&lt;/td&gt;\n",
      "        <br/>    &lt;td&gt;mark@facebook.com&lt;/td&gt;\n",
      "        <br/>  &lt;/tr&gt;\n",
      "        <br/>   &lt;tr&gt;\n",
      "        <br/>    &lt;td&gt;Space X&lt;/td&gt;\n",
      "        <br/>    &lt;td&gt;Elon Musk&lt;/td&gt;\n",
      "        <br/>    &lt;td&gt;elon@spacex.com&lt;/td&gt;\n",
      "        <br/>  &lt;/tr&gt;\n",
      "        <br/>  &lt;tr&gt;\n",
      "        <br/>    &lt;td&gt;Amazon&lt;/td&gt;\n",
      "        <br/>    &lt;td&gt;Jeff Bezos&lt;/td&gt;\n",
      "        <br/>    &lt;td&gt;jeff@amazon.com&lt;/td&gt;\n",
      "        <br/>  &lt;/tr&gt;\n",
      "        <br/>&lt;/table&gt;\n",
      "      </code>\n",
      "</section>\n",
      "<p>Produces this table:</p>\n",
      "<table border=\"1\">\n",
      "<tr>\n",
      "<th>Company</th>\n",
      "<th>Contact</th>\n",
      "<th>Email</th>\n",
      "</tr>\n",
      "<tr>\n",
      "<td>Google</td>\n",
      "<td>Sergey Brin</td>\n",
      "<td>sergey@google.com</td>\n",
      "</tr>\n",
      "<tr>\n",
      "<td>Facebook</td>\n",
      "<td>Mark Zuckerburg</td>\n",
      "<td>mark@facebook.com</td>\n",
      "</tr>\n",
      "<tr>\n",
      "<td>Space X</td>\n",
      "<td>Elon Musk</td>\n",
      "<td>elon@spacex.com</td>\n",
      "</tr>\n",
      "<tr>\n",
      "<td>Amazon</td>\n",
      "<td>Jeff Bezos</td>\n",
      "<td>jeff@amazon.com</td>\n",
      "</tr>\n",
      "</table>\n",
      "<p>\n",
      "<a href=\"https://developer.mozilla.org/en-US/docs/Web/HTML/Element/table\" target=\"_blank\">Learn More!</a>\n",
      "</p>\n",
      "</section>\n",
      "<section>\n",
      "<hr/>\n",
      "<h2>Division Tags</h2>\n",
      "<p>\n",
      "<code>&lt;div&gt;</code> tags are meant to be generic container elements with no semantic meaning other than those given to them by their classes and id attributes. You can group elements together by throwing them inside of the same div tag.\n",
      "    </p>\n",
      "<p>There are other more semantic HTML tags such as <a href=\"https://developer.mozilla.org/en-US/docs/Web/HTML/Element/article\">articles</a> or\n",
      "      <a href=\"https://developer.mozilla.org/en-US/docs/Web/HTML/Element/nav\">navs</a> or <a href=\"https://developer.mozilla.org/en-US/docs/Web/HTML/Element/footer\">footers</a> which behave the exact same way as div elements do, but are designed to be\n",
      "      used for specifc purposes. These should be used whenever possible for a few reasons, but one of the most practical is that code is easier to understand and debug when things are named what they actually are.\n",
      "      <a href=\"https://developer.mozilla.org/en-US/docs/Web/HTML/Element/div\" target=\"_blank\">Learn More!</a>\n",
      "</p>\n",
      "</section>\n",
      "<section>\n",
      "<hr/>\n",
      "<h2>Strong Tags</h2>\n",
      "<p>\n",
      "<code>&lt;strong&gt;</code> tags give any nested text a bold font weight. If you'd like to make text bold, put the text inside of <code>&lt;strong&gt;<strong>this text will be bold</strong>&lt;/strong&gt;</code>. In addition to browsers rendering text inside strong elements\n",
      "      as bold by default, strong has another semantic meaning. It's meant for text which is supposed to be serious or urgent.\n",
      "      <a href=\"https://developer.mozilla.org/en-US/docs/Web/HTML/Element/strong\" target=\"_blank\">Learn More!</a>\n",
      "</p>\n",
      "</section>\n",
      "</body>\n",
      "</html>\n",
      "\n"
     ]
    }
   ],
   "source": [
    "soup = BeautifulSoup(html, \"html.parser\")\n",
    "print(soup)"
   ]
  },
  {
   "cell_type": "code",
   "execution_count": 6,
   "id": "cec4623a",
   "metadata": {},
   "outputs": [
    {
     "data": {
      "text/plain": [
       "bs4.BeautifulSoup"
      ]
     },
     "execution_count": 6,
     "metadata": {},
     "output_type": "execute_result"
    }
   ],
   "source": [
    "type(soup)"
   ]
  },
  {
   "cell_type": "code",
   "execution_count": 15,
   "id": "9fe0b3d3",
   "metadata": {},
   "outputs": [
    {
     "data": {
      "text/plain": [
       "<head>\n",
       "<meta charset=\"utf-8\"/>\n",
       "<title>Some Common HTML Tags</title>\n",
       "</head>"
      ]
     },
     "execution_count": 15,
     "metadata": {},
     "output_type": "execute_result"
    }
   ],
   "source": [
    "# head element\n",
    "soup.head"
   ]
  },
  {
   "cell_type": "code",
   "execution_count": 16,
   "id": "8bcfce53",
   "metadata": {},
   "outputs": [
    {
     "data": {
      "text/plain": [
       "'Some Common HTML Tags'"
      ]
     },
     "execution_count": 16,
     "metadata": {},
     "output_type": "execute_result"
    }
   ],
   "source": [
    "soup.title.text"
   ]
  },
  {
   "cell_type": "code",
   "execution_count": 17,
   "id": "dbf9e3d2",
   "metadata": {},
   "outputs": [
    {
     "data": {
      "text/plain": [
       "<h1>Some Common HTML Tags</h1>"
      ]
     },
     "execution_count": 17,
     "metadata": {},
     "output_type": "execute_result"
    }
   ],
   "source": [
    "soup.h1"
   ]
  },
  {
   "cell_type": "code",
   "execution_count": 26,
   "id": "bf798e57",
   "metadata": {},
   "outputs": [
    {
     "data": {
      "text/plain": [
       "<h1>Some Common HTML Tags</h1>"
      ]
     },
     "execution_count": 26,
     "metadata": {},
     "output_type": "execute_result"
    }
   ],
   "source": [
    "# first h1 element and its text\n",
    "first_head = soup.find(\"h1\")\n",
    "first_head"
   ]
  },
  {
   "cell_type": "code",
   "execution_count": 27,
   "id": "efe30216",
   "metadata": {},
   "outputs": [
    {
     "data": {
      "text/plain": [
       "'Some Common HTML Tags'"
      ]
     },
     "execution_count": 27,
     "metadata": {},
     "output_type": "execute_result"
    }
   ],
   "source": [
    "first_head.text"
   ]
  },
  {
   "cell_type": "code",
   "execution_count": null,
   "id": "825d7690",
   "metadata": {},
   "outputs": [],
   "source": [
    "# first h1 element and its text\n",
    "soup.find(\"h1\")"
   ]
  },
  {
   "cell_type": "code",
   "execution_count": 18,
   "id": "db22c147",
   "metadata": {},
   "outputs": [
    {
     "data": {
      "text/plain": [
       "'Some Common HTML Tags'"
      ]
     },
     "execution_count": 18,
     "metadata": {},
     "output_type": "execute_result"
    }
   ],
   "source": [
    "# first h1 element and its text\n",
    "soup.h1.text"
   ]
  },
  {
   "cell_type": "code",
   "execution_count": 30,
   "id": "f6d1b093",
   "metadata": {},
   "outputs": [
    {
     "data": {
      "text/plain": [
       "<h2>Paragraph Tags</h2>"
      ]
     },
     "execution_count": 30,
     "metadata": {},
     "output_type": "execute_result"
    }
   ],
   "source": [
    "# the first h2 element\n",
    "first_h2 = soup.find(\"h2\")\n",
    "first_h2"
   ]
  },
  {
   "cell_type": "code",
   "execution_count": 31,
   "id": "628b1139",
   "metadata": {},
   "outputs": [
    {
     "data": {
      "text/plain": [
       "'Paragraph Tags'"
      ]
     },
     "execution_count": 31,
     "metadata": {},
     "output_type": "execute_result"
    }
   ],
   "source": [
    "first_h2.text"
   ]
  },
  {
   "cell_type": "code",
   "execution_count": 33,
   "id": "b5acb1a2",
   "metadata": {},
   "outputs": [
    {
     "data": {
      "text/plain": [
       "<a href=\"https://developer.mozilla.org/en-US/docs/Web/HTML/Element/p\" target=\"_blank\">Learn More!</a>"
      ]
     },
     "execution_count": 33,
     "metadata": {},
     "output_type": "execute_result"
    }
   ],
   "source": [
    "# first anchor a and the href attribute\n",
    "anchor = soup.find(\"a\")\n",
    "anchor"
   ]
  },
  {
   "cell_type": "code",
   "execution_count": 34,
   "id": "7fc20efe",
   "metadata": {},
   "outputs": [
    {
     "data": {
      "text/plain": [
       "'https://developer.mozilla.org/en-US/docs/Web/HTML/Element/p'"
      ]
     },
     "execution_count": 34,
     "metadata": {},
     "output_type": "execute_result"
    }
   ],
   "source": [
    "# get the attribute of the anchor\n",
    "anchor[\"href\"]"
   ]
  },
  {
   "cell_type": "code",
   "execution_count": 42,
   "id": "cc1b9ced",
   "metadata": {},
   "outputs": [
    {
     "data": {
      "text/plain": [
       "[<h2>Paragraph Tags</h2>,\n",
       " <h2>Heading Tags</h2>,\n",
       " <h2>Horizontal Rule Tags</h2>,\n",
       " <h2>Image Tags</h2>,\n",
       " <h2>Anchor tags</h2>,\n",
       " <h2>Unordered and Ordered Lists</h2>,\n",
       " <h2>Tables</h2>,\n",
       " <h2>Division Tags</h2>,\n",
       " <h2>Strong Tags</h2>]"
      ]
     },
     "execution_count": 42,
     "metadata": {},
     "output_type": "execute_result"
    }
   ],
   "source": [
    "# the all h2 element\n",
    "first_h2 = soup.findAll(\"h2\")\n",
    "first_h2"
   ]
  },
  {
   "cell_type": "code",
   "execution_count": 45,
   "id": "4dd4c5be",
   "metadata": {},
   "outputs": [
    {
     "name": "stdout",
     "output_type": "stream",
     "text": [
      "Paragraph Tags\n",
      "Heading Tags\n",
      "Horizontal Rule Tags\n",
      "Image Tags\n",
      "Anchor tags\n",
      "Unordered and Ordered Lists\n",
      "Tables\n",
      "Division Tags\n",
      "Strong Tags\n"
     ]
    }
   ],
   "source": [
    "first_h2 = soup.findAll(\"h2\")\n",
    "for h in first_h2:\n",
    "    print(h.text)\n"
   ]
  },
  {
   "cell_type": "code",
   "execution_count": 19,
   "id": "33f8be3f",
   "metadata": {},
   "outputs": [
    {
     "data": {
      "text/plain": [
       "'Paragraph Tags'"
      ]
     },
     "execution_count": 19,
     "metadata": {},
     "output_type": "execute_result"
    }
   ],
   "source": [
    "soup.h2.text"
   ]
  },
  {
   "cell_type": "code",
   "execution_count": 47,
   "id": "99ab54be",
   "metadata": {},
   "outputs": [
    {
     "name": "stdout",
     "output_type": "stream",
     "text": [
      "\n",
      "Monday\n",
      "Tuesday\n",
      "Thursday\n",
      "\n"
     ]
    }
   ],
   "source": [
    "# the first ul, first il, + li text\n",
    "first_ul = soup.findAll(\"ul\")\n",
    "for u in first_ul:\n",
    "    print(u.text)\n"
   ]
  },
  {
   "cell_type": "code",
   "execution_count": 49,
   "id": "a9bcae5a",
   "metadata": {},
   "outputs": [
    {
     "data": {
      "text/plain": [
       "<ul>\n",
       "<li>Monday</li>\n",
       "<li>Tuesday</li>\n",
       "<li>Thursday</li>\n",
       "</ul>"
      ]
     },
     "execution_count": 49,
     "metadata": {},
     "output_type": "execute_result"
    }
   ],
   "source": [
    "# the first ul, first il, + li text\n",
    "ul = soup.find(\"ul\")\n",
    "ul"
   ]
  },
  {
   "cell_type": "code",
   "execution_count": 50,
   "id": "d3c7f49c",
   "metadata": {},
   "outputs": [
    {
     "data": {
      "text/plain": [
       "<li>Monday</li>"
      ]
     },
     "execution_count": 50,
     "metadata": {},
     "output_type": "execute_result"
    }
   ],
   "source": [
    "#first li\n",
    "ul.li"
   ]
  },
  {
   "cell_type": "code",
   "execution_count": 51,
   "id": "0fbbb977",
   "metadata": {},
   "outputs": [
    {
     "data": {
      "text/plain": [
       "'Monday'"
      ]
     },
     "execution_count": 51,
     "metadata": {},
     "output_type": "execute_result"
    }
   ],
   "source": [
    "#first li text\n",
    "ul.li.text"
   ]
  },
  {
   "cell_type": "code",
   "execution_count": 53,
   "id": "03560f36",
   "metadata": {},
   "outputs": [
    {
     "data": {
      "text/plain": [
       "'Tuesday'"
      ]
     },
     "execution_count": 53,
     "metadata": {},
     "output_type": "execute_result"
    }
   ],
   "source": [
    "#find the second element of the list\n",
    "ul.findAll(\"li\")[1].text"
   ]
  },
  {
   "cell_type": "code",
   "execution_count": null,
   "id": "fe215287",
   "metadata": {},
   "outputs": [],
   "source": []
  },
  {
   "cell_type": "code",
   "execution_count": null,
   "id": "aad7d1e2",
   "metadata": {},
   "outputs": [],
   "source": []
  },
  {
   "cell_type": "code",
   "execution_count": null,
   "id": "5359dfe0",
   "metadata": {},
   "outputs": [],
   "source": []
  },
  {
   "cell_type": "code",
   "execution_count": 20,
   "id": "2c4e9bd0",
   "metadata": {},
   "outputs": [
    {
     "data": {
      "text/plain": [
       "<title>Some Common HTML Tags</title>"
      ]
     },
     "execution_count": 20,
     "metadata": {},
     "output_type": "execute_result"
    }
   ],
   "source": [
    "soup.title"
   ]
  },
  {
   "cell_type": "code",
   "execution_count": 21,
   "id": "f11c1c50",
   "metadata": {},
   "outputs": [
    {
     "data": {
      "text/plain": [
       "'Some Common HTML Tags'"
      ]
     },
     "execution_count": 21,
     "metadata": {},
     "output_type": "execute_result"
    }
   ],
   "source": [
    "soup.title.text"
   ]
  },
  {
   "cell_type": "code",
   "execution_count": 22,
   "id": "810be00d",
   "metadata": {},
   "outputs": [
    {
     "data": {
      "text/plain": [
       "<a href=\"https://developer.mozilla.org/en-US/docs/Web/HTML/Element/p\" target=\"_blank\">Learn More!</a>"
      ]
     },
     "execution_count": 22,
     "metadata": {},
     "output_type": "execute_result"
    }
   ],
   "source": [
    "soup.a"
   ]
  },
  {
   "cell_type": "code",
   "execution_count": 23,
   "id": "e65cdabc",
   "metadata": {},
   "outputs": [],
   "source": [
    "soup.a.href"
   ]
  },
  {
   "cell_type": "code",
   "execution_count": null,
   "id": "875e0db9",
   "metadata": {},
   "outputs": [],
   "source": []
  },
  {
   "cell_type": "code",
   "execution_count": null,
   "id": "ecb38774",
   "metadata": {},
   "outputs": [],
   "source": []
  },
  {
   "cell_type": "code",
   "execution_count": null,
   "id": "89ed295a",
   "metadata": {},
   "outputs": [],
   "source": []
  },
  {
   "cell_type": "code",
   "execution_count": null,
   "id": "0ed19f1d",
   "metadata": {},
   "outputs": [],
   "source": []
  },
  {
   "cell_type": "code",
   "execution_count": null,
   "id": "faf6aaa3",
   "metadata": {},
   "outputs": [],
   "source": []
  },
  {
   "cell_type": "code",
   "execution_count": null,
   "id": "1bd4a7e9",
   "metadata": {},
   "outputs": [],
   "source": [
    "# first item of the order list\n",
    "soup.ol.li"
   ]
  },
  {
   "cell_type": "code",
   "execution_count": null,
   "id": "a0919ab8",
   "metadata": {},
   "outputs": [],
   "source": []
  },
  {
   "cell_type": "code",
   "execution_count": null,
   "id": "ae43470c",
   "metadata": {},
   "outputs": [],
   "source": []
  },
  {
   "cell_type": "code",
   "execution_count": null,
   "id": "6f55a178",
   "metadata": {},
   "outputs": [],
   "source": []
  },
  {
   "cell_type": "code",
   "execution_count": null,
   "id": "8b7d966c",
   "metadata": {},
   "outputs": [],
   "source": []
  },
  {
   "cell_type": "code",
   "execution_count": null,
   "id": "b6a2e92e",
   "metadata": {},
   "outputs": [],
   "source": []
  },
  {
   "cell_type": "code",
   "execution_count": null,
   "id": "ef47a6c3",
   "metadata": {},
   "outputs": [],
   "source": []
  },
  {
   "cell_type": "code",
   "execution_count": null,
   "id": "d8095d94",
   "metadata": {},
   "outputs": [],
   "source": []
  },
  {
   "cell_type": "code",
   "execution_count": null,
   "id": "6731a44a",
   "metadata": {},
   "outputs": [],
   "source": []
  },
  {
   "cell_type": "code",
   "execution_count": null,
   "id": "a24f2475",
   "metadata": {},
   "outputs": [],
   "source": [
    "soup.ol.li.text"
   ]
  },
  {
   "cell_type": "code",
   "execution_count": null,
   "id": "f6a79e06",
   "metadata": {},
   "outputs": [],
   "source": []
  },
  {
   "cell_type": "code",
   "execution_count": null,
   "id": "e68f2530",
   "metadata": {},
   "outputs": [],
   "source": []
  },
  {
   "cell_type": "code",
   "execution_count": null,
   "id": "27306463",
   "metadata": {},
   "outputs": [],
   "source": [
    "soup.img"
   ]
  },
  {
   "cell_type": "code",
   "execution_count": null,
   "id": "113fea17",
   "metadata": {},
   "outputs": [],
   "source": [
    "img_html = soup.find(\"img\")\n",
    "img_html"
   ]
  },
  {
   "cell_type": "code",
   "execution_count": null,
   "id": "80cc6301",
   "metadata": {},
   "outputs": [],
   "source": [
    "img_html['src']"
   ]
  },
  {
   "cell_type": "code",
   "execution_count": null,
   "id": "313358e8",
   "metadata": {},
   "outputs": [],
   "source": [
    "img_html['alt']"
   ]
  },
  {
   "cell_type": "code",
   "execution_count": null,
   "id": "af0e0f68",
   "metadata": {},
   "outputs": [],
   "source": [
    "print(soup.h1)"
   ]
  },
  {
   "cell_type": "code",
   "execution_count": null,
   "id": "0e384d14",
   "metadata": {},
   "outputs": [],
   "source": [
    "ol = soup.find_all(\"ol\")\n",
    "for o in ol:\n",
    "    print(o)"
   ]
  },
  {
   "cell_type": "code",
   "execution_count": null,
   "id": "b1d222f6",
   "metadata": {},
   "outputs": [],
   "source": [
    "ol = soup.find_all(\"ol\")\n",
    "for o in ol:\n",
    "    print(o)"
   ]
  },
  {
   "cell_type": "code",
   "execution_count": null,
   "id": "bf8a1866",
   "metadata": {},
   "outputs": [],
   "source": [
    "soup.find_all(\"ol\")[0].find_all(\"li\")\n"
   ]
  },
  {
   "cell_type": "code",
   "execution_count": null,
   "id": "2484ecdc",
   "metadata": {},
   "outputs": [],
   "source": []
  },
  {
   "cell_type": "code",
   "execution_count": null,
   "id": "7e1c9d03",
   "metadata": {},
   "outputs": [],
   "source": []
  },
  {
   "cell_type": "code",
   "execution_count": null,
   "id": "801bda92",
   "metadata": {},
   "outputs": [],
   "source": []
  },
  {
   "cell_type": "code",
   "execution_count": null,
   "id": "eef44339",
   "metadata": {},
   "outputs": [],
   "source": [
    "print(soup.body)"
   ]
  },
  {
   "cell_type": "code",
   "execution_count": null,
   "id": "8de3df69",
   "metadata": {},
   "outputs": [],
   "source": []
  },
  {
   "cell_type": "code",
   "execution_count": null,
   "id": "3e394d93",
   "metadata": {},
   "outputs": [],
   "source": []
  },
  {
   "cell_type": "code",
   "execution_count": null,
   "id": "fe7aefd6",
   "metadata": {},
   "outputs": [],
   "source": []
  },
  {
   "cell_type": "code",
   "execution_count": null,
   "id": "3d8a04eb",
   "metadata": {},
   "outputs": [],
   "source": []
  },
  {
   "cell_type": "code",
   "execution_count": null,
   "id": "b8dbee37",
   "metadata": {},
   "outputs": [],
   "source": []
  },
  {
   "cell_type": "code",
   "execution_count": null,
   "id": "6409dca5",
   "metadata": {},
   "outputs": [],
   "source": []
  },
  {
   "cell_type": "code",
   "execution_count": null,
   "id": "1314422b",
   "metadata": {},
   "outputs": [],
   "source": []
  },
  {
   "cell_type": "code",
   "execution_count": null,
   "id": "bb47e310",
   "metadata": {},
   "outputs": [],
   "source": []
  },
  {
   "cell_type": "code",
   "execution_count": null,
   "id": "3b107d43",
   "metadata": {},
   "outputs": [],
   "source": []
  },
  {
   "cell_type": "code",
   "execution_count": null,
   "id": "1caba49a",
   "metadata": {},
   "outputs": [],
   "source": []
  },
  {
   "cell_type": "code",
   "execution_count": null,
   "id": "572e2f4a",
   "metadata": {},
   "outputs": [],
   "source": []
  },
  {
   "cell_type": "code",
   "execution_count": null,
   "id": "3f122b5b",
   "metadata": {},
   "outputs": [],
   "source": []
  },
  {
   "cell_type": "code",
   "execution_count": null,
   "id": "b8cb6b88",
   "metadata": {},
   "outputs": [],
   "source": []
  },
  {
   "cell_type": "code",
   "execution_count": null,
   "id": "95e4c459",
   "metadata": {},
   "outputs": [],
   "source": []
  },
  {
   "cell_type": "code",
   "execution_count": null,
   "id": "3cacb9f9",
   "metadata": {},
   "outputs": [],
   "source": []
  },
  {
   "cell_type": "code",
   "execution_count": null,
   "id": "cbc7e73c",
   "metadata": {},
   "outputs": [],
   "source": []
  }
 ],
 "metadata": {
  "kernelspec": {
   "display_name": "Python 3 (ipykernel)",
   "language": "python",
   "name": "python3"
  },
  "language_info": {
   "codemirror_mode": {
    "name": "ipython",
    "version": 3
   },
   "file_extension": ".py",
   "mimetype": "text/x-python",
   "name": "python",
   "nbconvert_exporter": "python",
   "pygments_lexer": "ipython3",
   "version": "3.9.13"
  }
 },
 "nbformat": 4,
 "nbformat_minor": 5
}
