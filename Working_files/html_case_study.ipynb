{
 "cells": [
  {
   "cell_type": "code",
   "execution_count": null,
   "id": "f2e63845",
   "metadata": {},
   "outputs": [],
   "source": [
    "# You’ve now pasted the entire block of code from index7.html into a Python string. Remember that in Python, we can enclose a string that spans multiple lines inside a pair of triple quotation marks (\"\"\"). In the preceding code, notice that we’ve also assigned this string to a variable named html.\n",
    "\n",
    "# Later, we’ll use an automated browser to extract HTML code from websites. But for now, we’ll paste HTML code for the sake of simplicity.\n",
    "\n",
    "# Next, in a new cell, enter and run the following code:"
   ]
  },
  {
   "cell_type": "code",
   "execution_count": 1,
   "id": "7d984e5e",
   "metadata": {},
   "outputs": [],
   "source": [
    "from bs4 import BeautifulSoup as soup"
   ]
  },
  {
   "cell_type": "code",
   "execution_count": 2,
   "id": "a31da1c8",
   "metadata": {},
   "outputs": [],
   "source": [
    "html = \"\"\"\n",
    "<!DOCTYPE html>\n",
    "<html lang=\"en\">\n",
    "\n",
    "<head>\n",
    "    <meta charset=\"UTF-8\">\n",
    "    <meta http-equiv=\"X-UA-Compatible\" content=\"IE=edge\">\n",
    "    <meta name=\"viewport\" content=\"width=device-width, initial-scale=1.0\">\n",
    "    <title>Document</title>\n",
    "</head>\n",
    "\n",
    "<body>\n",
    "    <div>\n",
    "        <h2>First heading</h2>\n",
    "        <p>First paragraph</p>\n",
    "    </div>\n",
    "\n",
    "    <div>\n",
    "        <h2>Second heading</h2>\n",
    "        <p>Second heading</p>\n",
    "    </div>\n",
    "</body>\n",
    "\n",
    "</html>\n",
    "\"\"\""
   ]
  },
  {
   "cell_type": "code",
   "execution_count": 3,
   "id": "9514490d",
   "metadata": {},
   "outputs": [
    {
     "name": "stdout",
     "output_type": "stream",
     "text": [
      "<!DOCTYPE html>\n",
      "<html lang=\"en\">\n",
      " <head>\n",
      "  <meta charset=\"utf-8\"/>\n",
      "  <meta content=\"IE=edge\" http-equiv=\"X-UA-Compatible\"/>\n",
      "  <meta content=\"width=device-width, initial-scale=1.0\" name=\"viewport\"/>\n",
      "  <title>\n",
      "   Document\n",
      "  </title>\n",
      " </head>\n",
      " <body>\n",
      "  <div>\n",
      "   <h2>\n",
      "    First heading\n",
      "   </h2>\n",
      "   <p>\n",
      "    First paragraph\n",
      "   </p>\n",
      "  </div>\n",
      "  <div>\n",
      "   <h2>\n",
      "    Second heading\n",
      "   </h2>\n",
      "   <p>\n",
      "    Second heading\n",
      "   </p>\n",
      "  </div>\n",
      " </body>\n",
      "</html>\n",
      "\n"
     ]
    }
   ],
   "source": [
    "html_soup = soup(html, 'html.parser')\n",
    "print(html_soup.prettify())\n"
   ]
  },
  {
   "cell_type": "code",
   "execution_count": 4,
   "id": "719ac542",
   "metadata": {},
   "outputs": [
    {
     "data": {
      "text/plain": [
       "<title>Document</title>"
      ]
     },
     "execution_count": 4,
     "metadata": {},
     "output_type": "execute_result"
    }
   ],
   "source": [
    "html_soup.title"
   ]
  },
  {
   "cell_type": "code",
   "execution_count": null,
   "id": "7d4c68de",
   "metadata": {},
   "outputs": [],
   "source": [
    "# The preceding code gets the HTML code of the title element. Specifically, it returns <title>Document</title>. That is, html_soup is an object that holds the parsed HTML code. And, its title attribute contains the HTML code of the title.\n",
    "\n",
    "# What if we care about only the text of the title element and not the HTML tags? We can further narrow our search to return only the title of the HTML document, which is Document. To do so, enter and run the following code in the next cell:\n",
    "\n"
   ]
  },
  {
   "cell_type": "code",
   "execution_count": 5,
   "id": "15ce0331",
   "metadata": {},
   "outputs": [
    {
     "name": "stdout",
     "output_type": "stream",
     "text": [
      "Document\n"
     ]
    }
   ],
   "source": [
    "doc_title = html_soup.title.text\n",
    "print(doc_title)"
   ]
  },
  {
   "cell_type": "code",
   "execution_count": 6,
   "id": "8776efff",
   "metadata": {},
   "outputs": [
    {
     "name": "stdout",
     "output_type": "stream",
     "text": [
      "<div>\n",
      "<h2>First heading</h2>\n",
      "<p>First paragraph</p>\n",
      "</div>\n"
     ]
    }
   ],
   "source": [
    "#Now, let's find out if we can retrieve an element that contains other elements within it. To do so, enter and run the following code in the next cell:\n",
    "# The preceding Python code uses the find method of the html_soup object to return an instance of a div, as the following code shows:\n",
    "\n",
    "Start of code snippet\n",
    "div = html_soup.find(\"div\")\n",
    "print(div)"
   ]
  },
  {
   "cell_type": "code",
   "execution_count": 11,
   "id": "149b8252",
   "metadata": {},
   "outputs": [],
   "source": [
    "#Recall that the HTML document contains two <div> tags. Why did the Python code return only one? The reason is that on its own, the find method returns only the first instance of the element that it’s searching for. Later, we’ll go over how to retrieve multiple elements.\n",
    "\n",
    "# Now that we know that the Beautiful Soup find method returns the first instance of an element, let's use it to retrieve the text of the first h2 element in the HTML document. To do so, enter and run the following code in the next cell:"
   ]
  },
  {
   "cell_type": "code",
   "execution_count": 12,
   "id": "f3cbcbc5",
   "metadata": {},
   "outputs": [],
   "source": [
    "doc_heading = html_soup.find(\"h2\").text"
   ]
  },
  {
   "cell_type": "code",
   "execution_count": 14,
   "id": "e80c32aa",
   "metadata": {},
   "outputs": [],
   "source": [
    "doc_paragraph = html_soup.find(\"p\").text"
   ]
  },
  {
   "cell_type": "code",
   "execution_count": 15,
   "id": "e731b0e0",
   "metadata": {},
   "outputs": [],
   "source": [
    "# Finally, let's store the information that we scraped in a Python data structure. In this case, we'll use a dictionary. To do so, enter and run the following code in the next cell:\n",
    "doc_info = {\"title\": doc_title,\n",
    "            \"heading\": doc_heading,\n",
    "            \"paragraph\": doc_paragraph}\n",
    "\n"
   ]
  },
  {
   "cell_type": "code",
   "execution_count": null,
   "id": "9cf82bdc",
   "metadata": {},
   "outputs": [],
   "source": [
    "# Depending on our needs, we can export a dictionary of scraped data to a JSON file, a Pandas DataFrame, or a MongoDB database.\n",
    "\n",
    "# You’ve now learned the basics of an HTML document. As you learn about web scraping, knowing how HTML is structured will help you identify where to find the data that you want on a webpage. Next, you’ll learn about CSS. It will help you in that effort by targeting a single HTML element or a group of related ones."
   ]
  }
 ],
 "metadata": {
  "kernelspec": {
   "display_name": "Python 3 (ipykernel)",
   "language": "python",
   "name": "python3"
  },
  "language_info": {
   "codemirror_mode": {
    "name": "ipython",
    "version": 3
   },
   "file_extension": ".py",
   "mimetype": "text/x-python",
   "name": "python",
   "nbconvert_exporter": "python",
   "pygments_lexer": "ipython3",
   "version": "3.9.13"
  }
 },
 "nbformat": 4,
 "nbformat_minor": 5
}
