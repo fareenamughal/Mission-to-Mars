{
 "cells": [
  {
   "cell_type": "code",
   "execution_count": 9,
   "metadata": {},
   "outputs": [],
   "source": [
    "from splinter import Browser\n",
    "from bs4 import BeautifulSoup\n",
    "from webdriver_manager.chrome import ChromeDriverManager\n",
    "\n",
    "executable_path = {'executable_path': ChromeDriverManager().install()}\n",
    "browser = Browser('chrome', **executable_path, headless=False)"
   ]
  },
  {
   "cell_type": "code",
   "execution_count": 10,
   "metadata": {},
   "outputs": [],
   "source": [
    "url = \"https://stackoverflow.com/questions/tagged/python?sort=MostVotes&edited=true\"\n",
    "browser.visit(url)\n",
    "html = browser.html\n",
    "soup = BeautifulSoup(html, 'html.parser')"
   ]
  },
  {
   "cell_type": "code",
   "execution_count": 11,
   "metadata": {},
   "outputs": [],
   "source": [
    "# Find all divs that contain a question\n",
    "question_divs = soup.find_all('div', class_=\"s-post-summary\")"
   ]
  },
  {
   "cell_type": "code",
   "execution_count": 12,
   "metadata": {},
   "outputs": [],
   "source": [
    "question_list = []"
   ]
  },
  {
   "cell_type": "code",
   "execution_count": 13,
   "metadata": {},
   "outputs": [],
   "source": [
    "for question in question_divs:\n",
    "    summary = question.find(\"h3\", class_=\"s-post-summary--content-title\").a.text\n",
    "    votes = question.find(\"span\", class_=\"s-post-summary--stats-item-number\").text\n",
    "    excerpt = question.find(\"div\", class_=\"s-post-summary--content-excerpt\").text.strip()\n",
    "    question_dict = {}\n",
    "    question_dict[\"summary\"] = summary\n",
    "    question_dict[\"votes\"] = votes\n",
    "    question_dict[\"excerpt\"] = excerpt\n",
    "    question_list.append(question_dict)"
   ]
  },
  {
   "cell_type": "code",
   "execution_count": 14,
   "metadata": {},
   "outputs": [
    {
     "data": {
      "text/plain": [
       "[{'summary': 'What does the \"yield\" keyword do?',\n",
       "  'votes': '12329',\n",
       "  'excerpt': \"What is the use of the yield keyword in Python? What does it do?\\nFor example, I'm trying to understand this code1:\\ndef _get_child_candidates(self, distance, min_dist, max_dist):\\n    if self._leftchild ...\"},\n",
       " {'summary': 'What does if __name__ == \"__main__\": do in Python?',\n",
       "  'votes': '7788',\n",
       "  'excerpt': 'What does this do, and why should one include the if statement?\\nif __name__ == \"__main__\":\\n    print(\"Hello, World!\")\\nIf you are trying to close a question where someone should be ...'},\n",
       " {'summary': 'Does Python have a ternary conditional operator?',\n",
       "  'votes': '7527',\n",
       "  'excerpt': 'Is there a ternary conditional operator in Python?'},\n",
       " {'summary': 'What are metaclasses in Python?',\n",
       "  'votes': '6998',\n",
       "  'excerpt': 'What are metaclasses? What are they used for?'},\n",
       " {'summary': 'How do I check whether a file exists without exceptions?',\n",
       "  'votes': '6809',\n",
       "  'excerpt': 'How do I check whether a file exists or not, without using the try statement?'},\n",
       " {'summary': 'How do I merge two dictionaries in a single expression?',\n",
       "  'votes': '6507',\n",
       "  'excerpt': \"I want to merge two dictionaries into a new dictionary.\\nx = {'a': 1, 'b': 2}\\ny = {'b': 3, 'c': 4}\\nz = merge(x, y)\\n\\n>>> z\\n{'a': 1, 'b': 3, 'c': 4}\\n\\nWhenever a key k is present in both ...\"},\n",
       " {'summary': 'How do I execute a program or call a system command?',\n",
       "  'votes': '5828',\n",
       "  'excerpt': \"How do I call an external command within Python as if I'd typed it in a shell or command prompt?\"},\n",
       " {'summary': 'How can I safely create a nested directory?',\n",
       "  'votes': '5356',\n",
       "  'excerpt': 'How do I check if the directory into which a file is going to be written does exist, and if it does not, create the directory using Python?'},\n",
       " {'summary': \"Accessing the index in 'for' loops\",\n",
       "  'votes': '4896',\n",
       "  'excerpt': 'How do I access the index while iterating over a sequence with a for loop?\\nxs = [8, 23, 45]\\n\\nfor x in xs:\\n    print(\"item #{} = {}\".format(index, x))\\n\\nDesired output:\\nitem #1 = 8\\nitem #2 = ...'},\n",
       " {'summary': 'How do I make a flat list out of a list of lists?',\n",
       "  'votes': '4885',\n",
       "  'excerpt': 'I have a list of lists like [[1, 2, 3], [4, 5, 6], [7], [8, 9]]. How can I flatten it to get [1, 2, 3, 4, 5, 6, 7, 8, 9]?\\n\\nIf your list of lists comes from a nested list comprehension, the problem can ...'},\n",
       " {'summary': 'Difference between @staticmethod and @classmethod',\n",
       "  'votes': '4426',\n",
       "  'excerpt': 'What is the difference between a function decorated with @staticmethod and one decorated with @classmethod?'},\n",
       " {'summary': 'Understanding slicing',\n",
       "  'votes': '4370',\n",
       "  'excerpt': 'I need a good explanation (references are a plus) on Python slicing.'},\n",
       " {'summary': 'Finding the index of an item in a list',\n",
       "  'votes': '4173',\n",
       "  'excerpt': 'Given a list [\"foo\", \"bar\", \"baz\"] and an item in the list \"bar\", how do I get its index 1?'},\n",
       " {'summary': \"Iterating over dictionaries using 'for' loops\",\n",
       "  'votes': '4029',\n",
       "  'excerpt': \"d = {'x': 1, 'y': 2, 'z': 3}\\n\\nfor key in d:\\n    print(key, 'corresponds to', d[key])\\n\\nHow does Python recognize that it needs only to read the key from the dictionary? Is key a special keyword, or is ...\"},\n",
       " {'summary': 'Using global variables in a function',\n",
       "  'votes': '3767',\n",
       "  'excerpt': 'How do I create or use a global variable inside a function?\\nHow do I use a global variable that was defined in one function inside other functions?\\n\\nFailing to use the global keyword where appropriate ...'}]"
      ]
     },
     "execution_count": 14,
     "metadata": {},
     "output_type": "execute_result"
    }
   ],
   "source": [
    "# The first two entries are duplicates\n",
    "question_list"
   ]
  },
  {
   "cell_type": "code",
   "execution_count": 15,
   "metadata": {},
   "outputs": [],
   "source": [
    "# Remove duplicate entry by slicing the first entry out\n",
    "question_list = question_list[1:]"
   ]
  },
  {
   "cell_type": "code",
   "execution_count": 16,
   "metadata": {},
   "outputs": [
    {
     "data": {
      "text/plain": [
       "[{'summary': 'What does if __name__ == \"__main__\": do in Python?',\n",
       "  'votes': '7788',\n",
       "  'excerpt': 'What does this do, and why should one include the if statement?\\nif __name__ == \"__main__\":\\n    print(\"Hello, World!\")\\nIf you are trying to close a question where someone should be ...'},\n",
       " {'summary': 'Does Python have a ternary conditional operator?',\n",
       "  'votes': '7527',\n",
       "  'excerpt': 'Is there a ternary conditional operator in Python?'},\n",
       " {'summary': 'What are metaclasses in Python?',\n",
       "  'votes': '6998',\n",
       "  'excerpt': 'What are metaclasses? What are they used for?'},\n",
       " {'summary': 'How do I check whether a file exists without exceptions?',\n",
       "  'votes': '6809',\n",
       "  'excerpt': 'How do I check whether a file exists or not, without using the try statement?'},\n",
       " {'summary': 'How do I merge two dictionaries in a single expression?',\n",
       "  'votes': '6507',\n",
       "  'excerpt': \"I want to merge two dictionaries into a new dictionary.\\nx = {'a': 1, 'b': 2}\\ny = {'b': 3, 'c': 4}\\nz = merge(x, y)\\n\\n>>> z\\n{'a': 1, 'b': 3, 'c': 4}\\n\\nWhenever a key k is present in both ...\"},\n",
       " {'summary': 'How do I execute a program or call a system command?',\n",
       "  'votes': '5828',\n",
       "  'excerpt': \"How do I call an external command within Python as if I'd typed it in a shell or command prompt?\"},\n",
       " {'summary': 'How can I safely create a nested directory?',\n",
       "  'votes': '5356',\n",
       "  'excerpt': 'How do I check if the directory into which a file is going to be written does exist, and if it does not, create the directory using Python?'},\n",
       " {'summary': \"Accessing the index in 'for' loops\",\n",
       "  'votes': '4896',\n",
       "  'excerpt': 'How do I access the index while iterating over a sequence with a for loop?\\nxs = [8, 23, 45]\\n\\nfor x in xs:\\n    print(\"item #{} = {}\".format(index, x))\\n\\nDesired output:\\nitem #1 = 8\\nitem #2 = ...'},\n",
       " {'summary': 'How do I make a flat list out of a list of lists?',\n",
       "  'votes': '4885',\n",
       "  'excerpt': 'I have a list of lists like [[1, 2, 3], [4, 5, 6], [7], [8, 9]]. How can I flatten it to get [1, 2, 3, 4, 5, 6, 7, 8, 9]?\\n\\nIf your list of lists comes from a nested list comprehension, the problem can ...'},\n",
       " {'summary': 'Difference between @staticmethod and @classmethod',\n",
       "  'votes': '4426',\n",
       "  'excerpt': 'What is the difference between a function decorated with @staticmethod and one decorated with @classmethod?'},\n",
       " {'summary': 'Understanding slicing',\n",
       "  'votes': '4370',\n",
       "  'excerpt': 'I need a good explanation (references are a plus) on Python slicing.'},\n",
       " {'summary': 'Finding the index of an item in a list',\n",
       "  'votes': '4173',\n",
       "  'excerpt': 'Given a list [\"foo\", \"bar\", \"baz\"] and an item in the list \"bar\", how do I get its index 1?'},\n",
       " {'summary': \"Iterating over dictionaries using 'for' loops\",\n",
       "  'votes': '4029',\n",
       "  'excerpt': \"d = {'x': 1, 'y': 2, 'z': 3}\\n\\nfor key in d:\\n    print(key, 'corresponds to', d[key])\\n\\nHow does Python recognize that it needs only to read the key from the dictionary? Is key a special keyword, or is ...\"},\n",
       " {'summary': 'Using global variables in a function',\n",
       "  'votes': '3767',\n",
       "  'excerpt': 'How do I create or use a global variable inside a function?\\nHow do I use a global variable that was defined in one function inside other functions?\\n\\nFailing to use the global keyword where appropriate ...'}]"
      ]
     },
     "execution_count": 16,
     "metadata": {},
     "output_type": "execute_result"
    }
   ],
   "source": [
    "question_list"
   ]
  },
  {
   "cell_type": "code",
   "execution_count": 17,
   "metadata": {},
   "outputs": [],
   "source": [
    "browser.quit()"
   ]
  },
  {
   "cell_type": "code",
   "execution_count": null,
   "metadata": {},
   "outputs": [],
   "source": []
  }
 ],
 "metadata": {
  "kernelspec": {
   "display_name": "Python 3 (ipykernel)",
   "language": "python",
   "name": "python3"
  },
  "language_info": {
   "codemirror_mode": {
    "name": "ipython",
    "version": 3
   },
   "file_extension": ".py",
   "mimetype": "text/x-python",
   "name": "python",
   "nbconvert_exporter": "python",
   "pygments_lexer": "ipython3",
   "version": "3.9.13"
  },
  "vscode": {
   "interpreter": {
    "hash": "d367ddca12e32af6817c96975c9ff42e1374bf51ce4d2968fffda4ca9e757b6c"
   }
  }
 },
 "nbformat": 4,
 "nbformat_minor": 4
}
